{
 "cells": [
  {
   "cell_type": "markdown",
   "id": "457a6a91-117e-41b3-be96-ffa6ac9d92e7",
   "metadata": {
    "id": "457a6a91-117e-41b3-be96-ffa6ac9d92e7"
   },
   "source": [
    "# M2 | Exploration Notebook\n",
    "\n",
    "In this notebook, you will do a first exploration of the data set that you will use for your project. One part of this exploration is guided, i.e. we will ask you to solve specific questions (task 1-3). The other part is open, i.e. we will ask you to come up with your own exploration ideas (task 4). \n",
    "\n",
    "Please upload your solved notebook to Moodle (under Milestone 2 Submission)adding your SCIPER number in title, example: m2-lernnavi-456392.ipynb\n",
    "\n",
    "\n",
    "## Brief overview of Lernnavi\n",
    "[Lernnavi](https://www.lernnavi.ch) is an instrument for promoting part of the basic technical study skills in German and mathematics.\n",
    "\n",
    "\n",
    "For the guided part of the exploration we will focus on the three main tables:\n",
    "* *users*: demographic information of users.\n",
    "* *events*: events done by the users in the platform.\n",
    "* *transactions*: question and answer solved by user.\n",
    "\n",
    "### Users\n",
    "* user_id: unique identifier of user in database.\n",
    "* gender: only three values: M male, F female or missing. \n",
    "* canton: swiss canton.\n",
    "* class_level: school year in swiss system.\n",
    "\n",
    "\n",
    "### Events\n",
    "* event_id: unique identifier of event in database.\n",
    "* user_id: user who peformed the event.\n",
    "* timestamp: timestamp of event.\n",
    "* category: classification of action (task, general, statistics, etc).\n",
    "* action: type of action performed.\n",
    "* event_type: whether the students viewed or clicked in the event.\n",
    "* transaction_token: used to link to transactions table.\n",
    "* session_id: session during which the event took place.\n",
    "* tracking_data: optional content associated to this event (e.g., the new points mastered for a topic).\n",
    "\n",
    "\n",
    "### Transactions\n",
    "* transaction_id: unique identifier of transaction in database.\n",
    "* transaction_token: used to link to events table.\n",
    "* user_id: user who performed the transaction.\n",
    "* document_id: document that was answered in transaction.\n",
    "* document_version: version of document that was answered.\n",
    "* evaluation: whether the user answered correctly or not. It is possible that it was only partially right. \n",
    "* input: answer the user gave.\n",
    "* start_time: timestamp of when the user started answering.\n",
    "* commit_time: timestamp of when the user submitted the answer.\n",
    "* user_agent: the browser that the user used.\n",
    "* validation: used to validate the format of the input.\n",
    "* solution: solution to question.\n",
    "* type: type of question that was answered. \n"
   ]
  },
  {
   "cell_type": "code",
   "execution_count": 1,
   "id": "d48798e0-0a92-4b89-ac16-31fe2ec2fdc7",
   "metadata": {},
   "outputs": [],
   "source": [
    "# Import the tables of the data set as dataframes.\n",
    "import numpy as np\n",
    "import pandas as pd\n",
    "import matplotlib.pyplot as plt\n",
    "import seaborn as sns\n",
    "from scipy import stats"
   ]
  },
  {
   "cell_type": "code",
   "execution_count": 2,
   "id": "2b10fd14-a60b-4de9-b217-bbaf68dac01c",
   "metadata": {
    "id": "2b10fd14-a60b-4de9-b217-bbaf68dac01c"
   },
   "outputs": [],
   "source": [
    "DATA_DIR = './data' #You many change the directory\n",
    "\n",
    "users = pd.read_csv('{}/users.csv.gz'.format(DATA_DIR))\n",
    "events = pd.read_csv('{}/events.csv.gz'.format(DATA_DIR))\n",
    "transactions = pd.read_csv('{}/transactions.csv.gz'.format(DATA_DIR))"
   ]
  },
  {
   "cell_type": "code",
   "execution_count": 3,
   "id": "205728b4-622e-4cdf-8cd7-2ad83876309a",
   "metadata": {},
   "outputs": [
    {
     "data": {
      "text/html": [
       "<div>\n",
       "<style scoped>\n",
       "    .dataframe tbody tr th:only-of-type {\n",
       "        vertical-align: middle;\n",
       "    }\n",
       "\n",
       "    .dataframe tbody tr th {\n",
       "        vertical-align: top;\n",
       "    }\n",
       "\n",
       "    .dataframe thead th {\n",
       "        text-align: right;\n",
       "    }\n",
       "</style>\n",
       "<table border=\"1\" class=\"dataframe\">\n",
       "  <thead>\n",
       "    <tr style=\"text-align: right;\">\n",
       "      <th></th>\n",
       "      <th>user_id</th>\n",
       "      <th>gender</th>\n",
       "      <th>canton</th>\n",
       "      <th>class_level</th>\n",
       "    </tr>\n",
       "  </thead>\n",
       "  <tbody>\n",
       "    <tr>\n",
       "      <th>0</th>\n",
       "      <td>387604</td>\n",
       "      <td>NaN</td>\n",
       "      <td>NaN</td>\n",
       "      <td>NaN</td>\n",
       "    </tr>\n",
       "    <tr>\n",
       "      <th>1</th>\n",
       "      <td>387605</td>\n",
       "      <td>NaN</td>\n",
       "      <td>NaN</td>\n",
       "      <td>NaN</td>\n",
       "    </tr>\n",
       "    <tr>\n",
       "      <th>2</th>\n",
       "      <td>387608</td>\n",
       "      <td>NaN</td>\n",
       "      <td>NaN</td>\n",
       "      <td>NaN</td>\n",
       "    </tr>\n",
       "    <tr>\n",
       "      <th>3</th>\n",
       "      <td>387615</td>\n",
       "      <td>MALE</td>\n",
       "      <td>SG</td>\n",
       "      <td>Gymnasium - 3. Jahr</td>\n",
       "    </tr>\n",
       "    <tr>\n",
       "      <th>4</th>\n",
       "      <td>387643</td>\n",
       "      <td>NaN</td>\n",
       "      <td>NaN</td>\n",
       "      <td>NaN</td>\n",
       "    </tr>\n",
       "    <tr>\n",
       "      <th>...</th>\n",
       "      <td>...</td>\n",
       "      <td>...</td>\n",
       "      <td>...</td>\n",
       "      <td>...</td>\n",
       "    </tr>\n",
       "    <tr>\n",
       "      <th>13690</th>\n",
       "      <td>404600</td>\n",
       "      <td>NaN</td>\n",
       "      <td>NaN</td>\n",
       "      <td>NaN</td>\n",
       "    </tr>\n",
       "    <tr>\n",
       "      <th>13691</th>\n",
       "      <td>404603</td>\n",
       "      <td>FEMALE</td>\n",
       "      <td>SO</td>\n",
       "      <td>Gymnasium - 4. Jahr</td>\n",
       "    </tr>\n",
       "    <tr>\n",
       "      <th>13692</th>\n",
       "      <td>404604</td>\n",
       "      <td>FEMALE</td>\n",
       "      <td>ZH</td>\n",
       "      <td>Langzeitgymnasium - 2. Jahr</td>\n",
       "    </tr>\n",
       "    <tr>\n",
       "      <th>13693</th>\n",
       "      <td>404605</td>\n",
       "      <td>FEMALE</td>\n",
       "      <td>SO</td>\n",
       "      <td>Gymnasium - 3. Jahr</td>\n",
       "    </tr>\n",
       "    <tr>\n",
       "      <th>13694</th>\n",
       "      <td>404623</td>\n",
       "      <td>MALE</td>\n",
       "      <td>BL</td>\n",
       "      <td>Gymnasium - 1. Jahr</td>\n",
       "    </tr>\n",
       "  </tbody>\n",
       "</table>\n",
       "<p>13695 rows × 4 columns</p>\n",
       "</div>"
      ],
      "text/plain": [
       "       user_id  gender canton                  class_level\n",
       "0       387604     NaN    NaN                          NaN\n",
       "1       387605     NaN    NaN                          NaN\n",
       "2       387608     NaN    NaN                          NaN\n",
       "3       387615    MALE     SG          Gymnasium - 3. Jahr\n",
       "4       387643     NaN    NaN                          NaN\n",
       "...        ...     ...    ...                          ...\n",
       "13690   404600     NaN    NaN                          NaN\n",
       "13691   404603  FEMALE     SO          Gymnasium - 4. Jahr\n",
       "13692   404604  FEMALE     ZH  Langzeitgymnasium - 2. Jahr\n",
       "13693   404605  FEMALE     SO          Gymnasium - 3. Jahr\n",
       "13694   404623    MALE     BL          Gymnasium - 1. Jahr\n",
       "\n",
       "[13695 rows x 4 columns]"
      ]
     },
     "metadata": {},
     "output_type": "display_data"
    }
   ],
   "source": [
    "display(users)"
   ]
  },
  {
   "cell_type": "code",
   "execution_count": 4,
   "id": "404fc95b-b234-4bd3-aafb-212dced803a3",
   "metadata": {},
   "outputs": [
    {
     "data": {
      "text/html": [
       "<div>\n",
       "<style scoped>\n",
       "    .dataframe tbody tr th:only-of-type {\n",
       "        vertical-align: middle;\n",
       "    }\n",
       "\n",
       "    .dataframe tbody tr th {\n",
       "        vertical-align: top;\n",
       "    }\n",
       "\n",
       "    .dataframe thead th {\n",
       "        text-align: right;\n",
       "    }\n",
       "</style>\n",
       "<table border=\"1\" class=\"dataframe\">\n",
       "  <thead>\n",
       "    <tr style=\"text-align: right;\">\n",
       "      <th></th>\n",
       "      <th>event_id</th>\n",
       "      <th>user_id</th>\n",
       "      <th>timestamp</th>\n",
       "      <th>category</th>\n",
       "      <th>action</th>\n",
       "      <th>event_type</th>\n",
       "      <th>transaction_token</th>\n",
       "      <th>session_id</th>\n",
       "      <th>tracking_data</th>\n",
       "    </tr>\n",
       "  </thead>\n",
       "  <tbody>\n",
       "    <tr>\n",
       "      <th>0</th>\n",
       "      <td>62</td>\n",
       "      <td>393211</td>\n",
       "      <td>1621583814885</td>\n",
       "      <td>TASK</td>\n",
       "      <td>VIEW_QUESTION</td>\n",
       "      <td>VIEW</td>\n",
       "      <td>7a10ca52-ffb5-4069-8800-0dc86d778e94</td>\n",
       "      <td>NaN</td>\n",
       "      <td>NaN</td>\n",
       "    </tr>\n",
       "    <tr>\n",
       "      <th>1</th>\n",
       "      <td>63</td>\n",
       "      <td>393211</td>\n",
       "      <td>1621583898912</td>\n",
       "      <td>TASK</td>\n",
       "      <td>SUBMIT_ANSWER</td>\n",
       "      <td>CLICK</td>\n",
       "      <td>7a10ca52-ffb5-4069-8800-0dc86d778e94</td>\n",
       "      <td>NaN</td>\n",
       "      <td>NaN</td>\n",
       "    </tr>\n",
       "    <tr>\n",
       "      <th>2</th>\n",
       "      <td>64</td>\n",
       "      <td>393211</td>\n",
       "      <td>1621583907207</td>\n",
       "      <td>TASK</td>\n",
       "      <td>NEXT</td>\n",
       "      <td>CLICK</td>\n",
       "      <td>7a10ca52-ffb5-4069-8800-0dc86d778e94</td>\n",
       "      <td>NaN</td>\n",
       "      <td>NaN</td>\n",
       "    </tr>\n",
       "    <tr>\n",
       "      <th>3</th>\n",
       "      <td>65</td>\n",
       "      <td>393211</td>\n",
       "      <td>1621583907589</td>\n",
       "      <td>TASK</td>\n",
       "      <td>VIEW_QUESTION</td>\n",
       "      <td>VIEW</td>\n",
       "      <td>88fdcaad-f73b-46a2-b561-d262f2441442</td>\n",
       "      <td>NaN</td>\n",
       "      <td>NaN</td>\n",
       "    </tr>\n",
       "    <tr>\n",
       "      <th>4</th>\n",
       "      <td>66</td>\n",
       "      <td>393211</td>\n",
       "      <td>1621584222588</td>\n",
       "      <td>TASK</td>\n",
       "      <td>SUBMIT_ANSWER</td>\n",
       "      <td>CLICK</td>\n",
       "      <td>88fdcaad-f73b-46a2-b561-d262f2441442</td>\n",
       "      <td>NaN</td>\n",
       "      <td>NaN</td>\n",
       "    </tr>\n",
       "    <tr>\n",
       "      <th>...</th>\n",
       "      <td>...</td>\n",
       "      <td>...</td>\n",
       "      <td>...</td>\n",
       "      <td>...</td>\n",
       "      <td>...</td>\n",
       "      <td>...</td>\n",
       "      <td>...</td>\n",
       "      <td>...</td>\n",
       "      <td>...</td>\n",
       "    </tr>\n",
       "    <tr>\n",
       "      <th>3465554</th>\n",
       "      <td>3518462</td>\n",
       "      <td>404560</td>\n",
       "      <td>1645519933345</td>\n",
       "      <td>TASK</td>\n",
       "      <td>SUBMIT_ANSWER</td>\n",
       "      <td>CLICK</td>\n",
       "      <td>9edfed2d-ebe8-4b0e-873c-9ba13e6541b3</td>\n",
       "      <td>112259.0</td>\n",
       "      <td>NaN</td>\n",
       "    </tr>\n",
       "    <tr>\n",
       "      <th>3465555</th>\n",
       "      <td>3518463</td>\n",
       "      <td>404560</td>\n",
       "      <td>1645519934803</td>\n",
       "      <td>TASK</td>\n",
       "      <td>NEXT</td>\n",
       "      <td>CLICK</td>\n",
       "      <td>9edfed2d-ebe8-4b0e-873c-9ba13e6541b3</td>\n",
       "      <td>112259.0</td>\n",
       "      <td>NaN</td>\n",
       "    </tr>\n",
       "    <tr>\n",
       "      <th>3465556</th>\n",
       "      <td>3518464</td>\n",
       "      <td>404560</td>\n",
       "      <td>1645519935451</td>\n",
       "      <td>SESSION</td>\n",
       "      <td>REVIEW_TASK</td>\n",
       "      <td>VIEW</td>\n",
       "      <td>133248bc-5771-4240-94c2-77b23b7c2d97</td>\n",
       "      <td>112259.0</td>\n",
       "      <td>NaN</td>\n",
       "    </tr>\n",
       "    <tr>\n",
       "      <th>3465557</th>\n",
       "      <td>3518465</td>\n",
       "      <td>404552</td>\n",
       "      <td>1645519936842</td>\n",
       "      <td>USER_SESSION</td>\n",
       "      <td>WINDOW_VISIBLE_TRUE</td>\n",
       "      <td>VIEW</td>\n",
       "      <td>NaN</td>\n",
       "      <td>NaN</td>\n",
       "      <td>{\"location\": \"https://app.lernnavi.ch/session/...</td>\n",
       "    </tr>\n",
       "    <tr>\n",
       "      <th>3465558</th>\n",
       "      <td>3518466</td>\n",
       "      <td>404551</td>\n",
       "      <td>1645519936855</td>\n",
       "      <td>TASK</td>\n",
       "      <td>SUBMIT_ANSWER</td>\n",
       "      <td>CLICK</td>\n",
       "      <td>a9f626bc-184f-4e35-a466-110f26d042c4</td>\n",
       "      <td>112240.0</td>\n",
       "      <td>NaN</td>\n",
       "    </tr>\n",
       "  </tbody>\n",
       "</table>\n",
       "<p>3465559 rows × 9 columns</p>\n",
       "</div>"
      ],
      "text/plain": [
       "         event_id  user_id      timestamp      category               action  \\\n",
       "0              62   393211  1621583814885          TASK        VIEW_QUESTION   \n",
       "1              63   393211  1621583898912          TASK        SUBMIT_ANSWER   \n",
       "2              64   393211  1621583907207          TASK                 NEXT   \n",
       "3              65   393211  1621583907589          TASK        VIEW_QUESTION   \n",
       "4              66   393211  1621584222588          TASK        SUBMIT_ANSWER   \n",
       "...           ...      ...            ...           ...                  ...   \n",
       "3465554   3518462   404560  1645519933345          TASK        SUBMIT_ANSWER   \n",
       "3465555   3518463   404560  1645519934803          TASK                 NEXT   \n",
       "3465556   3518464   404560  1645519935451       SESSION          REVIEW_TASK   \n",
       "3465557   3518465   404552  1645519936842  USER_SESSION  WINDOW_VISIBLE_TRUE   \n",
       "3465558   3518466   404551  1645519936855          TASK        SUBMIT_ANSWER   \n",
       "\n",
       "        event_type                     transaction_token  session_id  \\\n",
       "0             VIEW  7a10ca52-ffb5-4069-8800-0dc86d778e94         NaN   \n",
       "1            CLICK  7a10ca52-ffb5-4069-8800-0dc86d778e94         NaN   \n",
       "2            CLICK  7a10ca52-ffb5-4069-8800-0dc86d778e94         NaN   \n",
       "3             VIEW  88fdcaad-f73b-46a2-b561-d262f2441442         NaN   \n",
       "4            CLICK  88fdcaad-f73b-46a2-b561-d262f2441442         NaN   \n",
       "...            ...                                   ...         ...   \n",
       "3465554      CLICK  9edfed2d-ebe8-4b0e-873c-9ba13e6541b3    112259.0   \n",
       "3465555      CLICK  9edfed2d-ebe8-4b0e-873c-9ba13e6541b3    112259.0   \n",
       "3465556       VIEW  133248bc-5771-4240-94c2-77b23b7c2d97    112259.0   \n",
       "3465557       VIEW                                   NaN         NaN   \n",
       "3465558      CLICK  a9f626bc-184f-4e35-a466-110f26d042c4    112240.0   \n",
       "\n",
       "                                             tracking_data  \n",
       "0                                                      NaN  \n",
       "1                                                      NaN  \n",
       "2                                                      NaN  \n",
       "3                                                      NaN  \n",
       "4                                                      NaN  \n",
       "...                                                    ...  \n",
       "3465554                                                NaN  \n",
       "3465555                                                NaN  \n",
       "3465556                                                NaN  \n",
       "3465557  {\"location\": \"https://app.lernnavi.ch/session/...  \n",
       "3465558                                                NaN  \n",
       "\n",
       "[3465559 rows x 9 columns]"
      ]
     },
     "metadata": {},
     "output_type": "display_data"
    }
   ],
   "source": [
    "display(events)"
   ]
  },
  {
   "cell_type": "code",
   "execution_count": 5,
   "id": "b34d6d4f-669b-43b7-8b11-923220bacae7",
   "metadata": {},
   "outputs": [
    {
     "data": {
      "text/html": [
       "<div>\n",
       "<style scoped>\n",
       "    .dataframe tbody tr th:only-of-type {\n",
       "        vertical-align: middle;\n",
       "    }\n",
       "\n",
       "    .dataframe tbody tr th {\n",
       "        vertical-align: top;\n",
       "    }\n",
       "\n",
       "    .dataframe thead th {\n",
       "        text-align: right;\n",
       "    }\n",
       "</style>\n",
       "<table border=\"1\" class=\"dataframe\">\n",
       "  <thead>\n",
       "    <tr style=\"text-align: right;\">\n",
       "      <th></th>\n",
       "      <th>transaction_id</th>\n",
       "      <th>transaction_token</th>\n",
       "      <th>user_id</th>\n",
       "      <th>document_id</th>\n",
       "      <th>document_version</th>\n",
       "      <th>evaluation</th>\n",
       "      <th>input</th>\n",
       "      <th>start_time</th>\n",
       "      <th>commit_time</th>\n",
       "      <th>user_agent</th>\n",
       "      <th>validation</th>\n",
       "      <th>solution</th>\n",
       "      <th>type</th>\n",
       "    </tr>\n",
       "  </thead>\n",
       "  <tbody>\n",
       "    <tr>\n",
       "      <th>0</th>\n",
       "      <td>1061991</td>\n",
       "      <td>cf99b0d7-279a-4ae0-8ef3-a15514e350b6</td>\n",
       "      <td>387604.0</td>\n",
       "      <td>111K3PY6sbr8ac1mRGpse1</td>\n",
       "      <td>87668</td>\n",
       "      <td>NaN</td>\n",
       "      <td>NaN</td>\n",
       "      <td>1637146446763</td>\n",
       "      <td>NaN</td>\n",
       "      <td>Mozilla/5.0 (Windows NT 10.0; Win64; x64) Appl...</td>\n",
       "      <td>NaN</td>\n",
       "      <td>NaN</td>\n",
       "      <td>NaN</td>\n",
       "    </tr>\n",
       "    <tr>\n",
       "      <th>1</th>\n",
       "      <td>1066631</td>\n",
       "      <td>13e3086b-1c4e-4d28-87a3-0582ccf495c6</td>\n",
       "      <td>387604.0</td>\n",
       "      <td>111K3PY6sbr8ac1mRGpse1</td>\n",
       "      <td>87668</td>\n",
       "      <td>NaN</td>\n",
       "      <td>NaN</td>\n",
       "      <td>1637233737283</td>\n",
       "      <td>NaN</td>\n",
       "      <td>Mozilla/5.0 (Windows NT 10.0; Win64; x64) Appl...</td>\n",
       "      <td>NaN</td>\n",
       "      <td>NaN</td>\n",
       "      <td>NaN</td>\n",
       "    </tr>\n",
       "    <tr>\n",
       "      <th>2</th>\n",
       "      <td>1011975</td>\n",
       "      <td>6f292166-86bd-4ec9-81e8-22e9033d571e</td>\n",
       "      <td>387604.0</td>\n",
       "      <td>111K3PY6sbr8ac1mRGpse1</td>\n",
       "      <td>87668</td>\n",
       "      <td>CORRECT</td>\n",
       "      <td>{\"type\": \"MULTIPLE_CHOICE\", \"selections\": {\"0\"...</td>\n",
       "      <td>1636444658255</td>\n",
       "      <td>1.636445e+12</td>\n",
       "      <td>NaN</td>\n",
       "      <td>PASS</td>\n",
       "      <td>{\"type\": \"MULTIPLE_CHOICE\", \"choices\": [{\"cont...</td>\n",
       "      <td>MULTIPLE_CHOICE</td>\n",
       "    </tr>\n",
       "    <tr>\n",
       "      <th>3</th>\n",
       "      <td>1020790</td>\n",
       "      <td>79a7d731-a36b-4529-a11b-108b9f877a04</td>\n",
       "      <td>387604.0</td>\n",
       "      <td>111K3PY6sbr8ac1mRGpse1</td>\n",
       "      <td>87668</td>\n",
       "      <td>CORRECT</td>\n",
       "      <td>{\"type\": \"MULTIPLE_CHOICE\", \"selections\": {\"0\"...</td>\n",
       "      <td>1636561847705</td>\n",
       "      <td>1.636562e+12</td>\n",
       "      <td>NaN</td>\n",
       "      <td>PASS</td>\n",
       "      <td>{\"type\": \"MULTIPLE_CHOICE\", \"choices\": [{\"cont...</td>\n",
       "      <td>MULTIPLE_CHOICE</td>\n",
       "    </tr>\n",
       "    <tr>\n",
       "      <th>4</th>\n",
       "      <td>1061970</td>\n",
       "      <td>a45b6464-371e-47f4-842c-34f9e345b4ec</td>\n",
       "      <td>387604.0</td>\n",
       "      <td>111K3PY6sbr8ac1mRGpse1</td>\n",
       "      <td>87668</td>\n",
       "      <td>CORRECT</td>\n",
       "      <td>{\"type\": \"MULTIPLE_CHOICE\", \"selections\": {\"0\"...</td>\n",
       "      <td>1637146373965</td>\n",
       "      <td>1.637146e+12</td>\n",
       "      <td>NaN</td>\n",
       "      <td>PASS</td>\n",
       "      <td>{\"type\": \"MULTIPLE_CHOICE\", \"choices\": [{\"cont...</td>\n",
       "      <td>MULTIPLE_CHOICE</td>\n",
       "    </tr>\n",
       "    <tr>\n",
       "      <th>...</th>\n",
       "      <td>...</td>\n",
       "      <td>...</td>\n",
       "      <td>...</td>\n",
       "      <td>...</td>\n",
       "      <td>...</td>\n",
       "      <td>...</td>\n",
       "      <td>...</td>\n",
       "      <td>...</td>\n",
       "      <td>...</td>\n",
       "      <td>...</td>\n",
       "      <td>...</td>\n",
       "      <td>...</td>\n",
       "      <td>...</td>\n",
       "    </tr>\n",
       "    <tr>\n",
       "      <th>800013</th>\n",
       "      <td>1585030</td>\n",
       "      <td>06d45030-3e4b-478a-ac7b-8ea1baaa72e5</td>\n",
       "      <td>404604.0</td>\n",
       "      <td>9wGXbOQkPdV6yr6aUa4ubj</td>\n",
       "      <td>89818</td>\n",
       "      <td>NaN</td>\n",
       "      <td>NaN</td>\n",
       "      <td>1645461301727</td>\n",
       "      <td>NaN</td>\n",
       "      <td>Mozilla/5.0 (Linux; Android 12; SAMSUNG SM-A72...</td>\n",
       "      <td>NaN</td>\n",
       "      <td>NaN</td>\n",
       "      <td>NaN</td>\n",
       "    </tr>\n",
       "    <tr>\n",
       "      <th>800014</th>\n",
       "      <td>1585034</td>\n",
       "      <td>cf5959df-cf20-459b-82f4-ebaea1c5d06b</td>\n",
       "      <td>404604.0</td>\n",
       "      <td>9wGXbOQkPdV6yr6aUa4ubj</td>\n",
       "      <td>89818</td>\n",
       "      <td>NaN</td>\n",
       "      <td>NaN</td>\n",
       "      <td>1645461326174</td>\n",
       "      <td>NaN</td>\n",
       "      <td>Mozilla/5.0 (Linux; Android 12; SAMSUNG SM-A72...</td>\n",
       "      <td>NaN</td>\n",
       "      <td>NaN</td>\n",
       "      <td>NaN</td>\n",
       "    </tr>\n",
       "    <tr>\n",
       "      <th>800015</th>\n",
       "      <td>1584551</td>\n",
       "      <td>7c9956b4-d2e2-4f30-9245-8155d6636bd5</td>\n",
       "      <td>404604.0</td>\n",
       "      <td>9wGXbOQkPdV6yr6aUa4ubj</td>\n",
       "      <td>89818</td>\n",
       "      <td>NaN</td>\n",
       "      <td>NaN</td>\n",
       "      <td>1645454941994</td>\n",
       "      <td>1.645455e+12</td>\n",
       "      <td>unknown</td>\n",
       "      <td>SKIP</td>\n",
       "      <td>NaN</td>\n",
       "      <td>NaN</td>\n",
       "    </tr>\n",
       "    <tr>\n",
       "      <th>800016</th>\n",
       "      <td>1584578</td>\n",
       "      <td>7e328437-52df-4697-94e9-186844c3e269</td>\n",
       "      <td>404604.0</td>\n",
       "      <td>a1jzfZLIHDt7LzD8KKha54</td>\n",
       "      <td>39046</td>\n",
       "      <td>PARTIAL</td>\n",
       "      <td>{\"type\": \"MULTIPLE_CHOICE\", \"selections\": {\"3\"...</td>\n",
       "      <td>1645455097067</td>\n",
       "      <td>1.645455e+12</td>\n",
       "      <td>unknown</td>\n",
       "      <td>PASS</td>\n",
       "      <td>{\"type\": \"MULTIPLE_CHOICE\", \"choices\": [{\"cont...</td>\n",
       "      <td>MULTIPLE_CHOICE</td>\n",
       "    </tr>\n",
       "    <tr>\n",
       "      <th>800017</th>\n",
       "      <td>1584584</td>\n",
       "      <td>48c02063-8c99-4e2c-b783-b626cf2fcfe9</td>\n",
       "      <td>404604.0</td>\n",
       "      <td>AUaU88i0ME6XdsMZWd5gp</td>\n",
       "      <td>39050</td>\n",
       "      <td>PARTIAL</td>\n",
       "      <td>{\"type\": \"MULTIPLE_CHOICE\", \"selections\": {\"0\"...</td>\n",
       "      <td>1645455137205</td>\n",
       "      <td>1.645461e+12</td>\n",
       "      <td>unknown</td>\n",
       "      <td>PASS</td>\n",
       "      <td>{\"type\": \"MULTIPLE_CHOICE\", \"choices\": [{\"cont...</td>\n",
       "      <td>MULTIPLE_CHOICE</td>\n",
       "    </tr>\n",
       "  </tbody>\n",
       "</table>\n",
       "<p>800018 rows × 13 columns</p>\n",
       "</div>"
      ],
      "text/plain": [
       "        transaction_id                     transaction_token   user_id  \\\n",
       "0              1061991  cf99b0d7-279a-4ae0-8ef3-a15514e350b6  387604.0   \n",
       "1              1066631  13e3086b-1c4e-4d28-87a3-0582ccf495c6  387604.0   \n",
       "2              1011975  6f292166-86bd-4ec9-81e8-22e9033d571e  387604.0   \n",
       "3              1020790  79a7d731-a36b-4529-a11b-108b9f877a04  387604.0   \n",
       "4              1061970  a45b6464-371e-47f4-842c-34f9e345b4ec  387604.0   \n",
       "...                ...                                   ...       ...   \n",
       "800013         1585030  06d45030-3e4b-478a-ac7b-8ea1baaa72e5  404604.0   \n",
       "800014         1585034  cf5959df-cf20-459b-82f4-ebaea1c5d06b  404604.0   \n",
       "800015         1584551  7c9956b4-d2e2-4f30-9245-8155d6636bd5  404604.0   \n",
       "800016         1584578  7e328437-52df-4697-94e9-186844c3e269  404604.0   \n",
       "800017         1584584  48c02063-8c99-4e2c-b783-b626cf2fcfe9  404604.0   \n",
       "\n",
       "                   document_id  document_version evaluation  \\\n",
       "0       111K3PY6sbr8ac1mRGpse1             87668        NaN   \n",
       "1       111K3PY6sbr8ac1mRGpse1             87668        NaN   \n",
       "2       111K3PY6sbr8ac1mRGpse1             87668    CORRECT   \n",
       "3       111K3PY6sbr8ac1mRGpse1             87668    CORRECT   \n",
       "4       111K3PY6sbr8ac1mRGpse1             87668    CORRECT   \n",
       "...                        ...               ...        ...   \n",
       "800013  9wGXbOQkPdV6yr6aUa4ubj             89818        NaN   \n",
       "800014  9wGXbOQkPdV6yr6aUa4ubj             89818        NaN   \n",
       "800015  9wGXbOQkPdV6yr6aUa4ubj             89818        NaN   \n",
       "800016  a1jzfZLIHDt7LzD8KKha54             39046    PARTIAL   \n",
       "800017   AUaU88i0ME6XdsMZWd5gp             39050    PARTIAL   \n",
       "\n",
       "                                                    input     start_time  \\\n",
       "0                                                     NaN  1637146446763   \n",
       "1                                                     NaN  1637233737283   \n",
       "2       {\"type\": \"MULTIPLE_CHOICE\", \"selections\": {\"0\"...  1636444658255   \n",
       "3       {\"type\": \"MULTIPLE_CHOICE\", \"selections\": {\"0\"...  1636561847705   \n",
       "4       {\"type\": \"MULTIPLE_CHOICE\", \"selections\": {\"0\"...  1637146373965   \n",
       "...                                                   ...            ...   \n",
       "800013                                                NaN  1645461301727   \n",
       "800014                                                NaN  1645461326174   \n",
       "800015                                                NaN  1645454941994   \n",
       "800016  {\"type\": \"MULTIPLE_CHOICE\", \"selections\": {\"3\"...  1645455097067   \n",
       "800017  {\"type\": \"MULTIPLE_CHOICE\", \"selections\": {\"0\"...  1645455137205   \n",
       "\n",
       "         commit_time                                         user_agent  \\\n",
       "0                NaN  Mozilla/5.0 (Windows NT 10.0; Win64; x64) Appl...   \n",
       "1                NaN  Mozilla/5.0 (Windows NT 10.0; Win64; x64) Appl...   \n",
       "2       1.636445e+12                                                NaN   \n",
       "3       1.636562e+12                                                NaN   \n",
       "4       1.637146e+12                                                NaN   \n",
       "...              ...                                                ...   \n",
       "800013           NaN  Mozilla/5.0 (Linux; Android 12; SAMSUNG SM-A72...   \n",
       "800014           NaN  Mozilla/5.0 (Linux; Android 12; SAMSUNG SM-A72...   \n",
       "800015  1.645455e+12                                            unknown   \n",
       "800016  1.645455e+12                                            unknown   \n",
       "800017  1.645461e+12                                            unknown   \n",
       "\n",
       "       validation                                           solution  \\\n",
       "0             NaN                                                NaN   \n",
       "1             NaN                                                NaN   \n",
       "2            PASS  {\"type\": \"MULTIPLE_CHOICE\", \"choices\": [{\"cont...   \n",
       "3            PASS  {\"type\": \"MULTIPLE_CHOICE\", \"choices\": [{\"cont...   \n",
       "4            PASS  {\"type\": \"MULTIPLE_CHOICE\", \"choices\": [{\"cont...   \n",
       "...           ...                                                ...   \n",
       "800013        NaN                                                NaN   \n",
       "800014        NaN                                                NaN   \n",
       "800015       SKIP                                                NaN   \n",
       "800016       PASS  {\"type\": \"MULTIPLE_CHOICE\", \"choices\": [{\"cont...   \n",
       "800017       PASS  {\"type\": \"MULTIPLE_CHOICE\", \"choices\": [{\"cont...   \n",
       "\n",
       "                   type  \n",
       "0                   NaN  \n",
       "1                   NaN  \n",
       "2       MULTIPLE_CHOICE  \n",
       "3       MULTIPLE_CHOICE  \n",
       "4       MULTIPLE_CHOICE  \n",
       "...                 ...  \n",
       "800013              NaN  \n",
       "800014              NaN  \n",
       "800015              NaN  \n",
       "800016  MULTIPLE_CHOICE  \n",
       "800017  MULTIPLE_CHOICE  \n",
       "\n",
       "[800018 rows x 13 columns]"
      ]
     },
     "metadata": {},
     "output_type": "display_data"
    }
   ],
   "source": [
    "display(transactions)"
   ]
  },
  {
   "cell_type": "markdown",
   "id": "c18703ff-3490-425d-874a-79586eabb80f",
   "metadata": {},
   "source": [
    "## Task 1: Simple Statistics\n",
    "\n",
    "In this task you are asked to do a first coarse exploration of the data set, using simple statistics and visualizations."
   ]
  },
  {
   "cell_type": "markdown",
   "id": "811d42c0-6f94-436e-b2da-232363fedace",
   "metadata": {
    "id": "811d42c0-6f94-436e-b2da-232363fedace"
   },
   "source": [
    "#### a) How many distinct participants do we have in the data set?\n"
   ]
  },
  {
   "cell_type": "code",
   "execution_count": 6,
   "id": "3935e6ea-982b-4d88-81c1-406f6d8040e8",
   "metadata": {
    "id": "3935e6ea-982b-4d88-81c1-406f6d8040e8"
   },
   "outputs": [
    {
     "data": {
      "text/plain": [
       "13695"
      ]
     },
     "execution_count": 6,
     "metadata": {},
     "output_type": "execute_result"
    }
   ],
   "source": [
    "## Your code goes here\n",
    "users.user_id.nunique()"
   ]
  },
  {
   "cell_type": "markdown",
   "id": "afa67951-aed8-4709-a935-9918d80ede84",
   "metadata": {
    "id": "afa67951-aed8-4709-a935-9918d80ede84"
   },
   "source": [
    "#### b) How many transactions were done per user? Please provide a visualization and discuss the distribution."
   ]
  },
  {
   "cell_type": "code",
   "execution_count": 7,
   "id": "51c75447-eb95-416f-9699-4c990da3f107",
   "metadata": {},
   "outputs": [
    {
     "data": {
      "text/plain": [
       "396334.0    1723\n",
       "394780.0    1491\n",
       "394913.0    1372\n",
       "401331.0    1338\n",
       "394677.0    1262\n",
       "            ... \n",
       "394343.0       1\n",
       "403858.0       1\n",
       "394899.0       1\n",
       "392472.0       1\n",
       "389427.0       1\n",
       "Name: user_id, Length: 10493, dtype: int64"
      ]
     },
     "execution_count": 7,
     "metadata": {},
     "output_type": "execute_result"
    }
   ],
   "source": [
    "nb_transactions_per_user = transactions.user_id.value_counts(dropna=False)\n",
    "nb_transactions_per_user"
   ]
  },
  {
   "cell_type": "code",
   "execution_count": 8,
   "id": "095ee332-1f81-48c7-a46f-68f7a54b6a73",
   "metadata": {},
   "outputs": [
    {
     "data": {
      "text/plain": [
       "<AxesSubplot:>"
      ]
     },
     "execution_count": 8,
     "metadata": {},
     "output_type": "execute_result"
    },
    {
     "data": {
      "image/png": "[encoded data removed]",
      "text/plain": [
       "<Figure size 432x288 with 1 Axes>"
      ]
     },
     "metadata": {
      "needs_background": "light"
     },
     "output_type": "display_data"
    }
   ],
   "source": [
    "nb_transactions_per_user.hist()"
   ]
  },
  {
   "cell_type": "code",
   "execution_count": 9,
   "id": "cc6283fc-7d95-4822-8e83-de3119ef1cbf",
   "metadata": {},
   "outputs": [
    {
     "data": {
      "text/plain": [
       "0.7890021919374821"
      ]
     },
     "execution_count": 9,
     "metadata": {},
     "output_type": "execute_result"
    }
   ],
   "source": [
    "np.sum(nb_transactions_per_user < 100)/transactions.user_id.nunique()"
   ]
  },
  {
   "cell_type": "code",
   "execution_count": 10,
   "id": "6e7758f5-61dc-4225-8849-1b8c0828d0ed",
   "metadata": {},
   "outputs": [
    {
     "data": {
      "text/plain": [
       "0.9199466310873916"
      ]
     },
     "execution_count": 10,
     "metadata": {},
     "output_type": "execute_result"
    }
   ],
   "source": [
    "np.sum(nb_transactions_per_user < 200)/transactions.user_id.nunique()"
   ]
  },
  {
   "cell_type": "markdown",
   "id": "zkDaH4M_a3vR",
   "metadata": {
    "id": "zkDaH4M_a3vR"
   },
   "source": [
    "The distribution follows a Poisson distribution since we are counting the number of transactions a user has performed from the creation of his account during 2020-2022. The majority of users have done only few transactions, almost 80% of the users have less than 100 transactions, whereas a few users have a lot of transactions (only one user has done 1723 transactions)."
   ]
  },
  {
   "cell_type": "markdown",
   "id": "b14fea28-8507-497d-9990-9eb2fefd18c0",
   "metadata": {
    "id": "b14fea28-8507-497d-9990-9eb2fefd18c0"
   },
   "source": [
    "#### c) Which are the 10 most popular event actions? Please provide a visualization of the frequency of the top 10 event actions.\n",
    "\n",
    "Hint: See actions in table events."
   ]
  },
  {
   "cell_type": "code",
   "execution_count": 11,
   "id": "6dd304d4-1076-4f97-9fea-884bc2ca0228",
   "metadata": {},
   "outputs": [
    {
     "data": {
      "text/plain": [
       "PAGE_VISIT              653725\n",
       "REVIEW_TASK             513389\n",
       "SUBMIT_ANSWER           419862\n",
       "NAVIGATE_DASHBOARD      350821\n",
       "NEXT                    277020\n",
       "WINDOW_VISIBLE_FALSE    240660\n",
       "WINDOW_VISIBLE_TRUE     199287\n",
       "VIEW_QUESTION           154592\n",
       "OPEN_FEEDBACK            87071\n",
       "GO_TO_THEORY             80746\n",
       "CLOSE_FEEDBACK           76780\n",
       "SURVEY_BANNER            68644\n",
       "VIEW_SESSION_END         52205\n",
       "SKIP                     50114\n",
       "SUBMIT_SEARCH            48953\n",
       "WINDOW_OPEN              48501\n",
       "CLOSE                    42276\n",
       "WINDOW_CLOSE             36576\n",
       "LOGIN                    23071\n",
       "SELECT_STATISTICS        16897\n",
       "ACCEPT_PROGRESS          11017\n",
       "GO_TO_BUG_REPORT          3660\n",
       "GO_TO_COMMENTS            3640\n",
       "LOGOUT                    2064\n",
       "PRETEST                   1709\n",
       "REJECT_PROGRESS           1200\n",
       "SHARE_SESSION              403\n",
       "NAVIGATE_SURVEY            219\n",
       "REQUEST_HINT               185\n",
       "GO_TO_SESSION              182\n",
       "SHARE                       90\n",
       "Name: action, dtype: int64"
      ]
     },
     "execution_count": 11,
     "metadata": {},
     "output_type": "execute_result"
    }
   ],
   "source": [
    "events.action.value_counts(dropna=False)"
   ]
  },
  {
   "cell_type": "code",
   "execution_count": 12,
   "id": "e991ecba",
   "metadata": {
    "id": "e991ecba"
   },
   "outputs": [
    {
     "data": {
      "text/html": [
       "<div>\n",
       "<style scoped>\n",
       "    .dataframe tbody tr th:only-of-type {\n",
       "        vertical-align: middle;\n",
       "    }\n",
       "\n",
       "    .dataframe tbody tr th {\n",
       "        vertical-align: top;\n",
       "    }\n",
       "\n",
       "    .dataframe thead th {\n",
       "        text-align: right;\n",
       "    }\n",
       "</style>\n",
       "<table border=\"1\" class=\"dataframe\">\n",
       "  <thead>\n",
       "    <tr style=\"text-align: right;\">\n",
       "      <th></th>\n",
       "      <th>Action</th>\n",
       "      <th>Count</th>\n",
       "      <th>Count %</th>\n",
       "    </tr>\n",
       "  </thead>\n",
       "  <tbody>\n",
       "    <tr>\n",
       "      <th>0</th>\n",
       "      <td>PAGE_VISIT</td>\n",
       "      <td>653725</td>\n",
       "      <td>0.188635</td>\n",
       "    </tr>\n",
       "    <tr>\n",
       "      <th>1</th>\n",
       "      <td>REVIEW_TASK</td>\n",
       "      <td>513389</td>\n",
       "      <td>0.148140</td>\n",
       "    </tr>\n",
       "    <tr>\n",
       "      <th>2</th>\n",
       "      <td>SUBMIT_ANSWER</td>\n",
       "      <td>419862</td>\n",
       "      <td>0.121153</td>\n",
       "    </tr>\n",
       "    <tr>\n",
       "      <th>3</th>\n",
       "      <td>NAVIGATE_DASHBOARD</td>\n",
       "      <td>350821</td>\n",
       "      <td>0.101231</td>\n",
       "    </tr>\n",
       "    <tr>\n",
       "      <th>4</th>\n",
       "      <td>NEXT</td>\n",
       "      <td>277020</td>\n",
       "      <td>0.079935</td>\n",
       "    </tr>\n",
       "    <tr>\n",
       "      <th>5</th>\n",
       "      <td>WINDOW_VISIBLE_FALSE</td>\n",
       "      <td>240660</td>\n",
       "      <td>0.069443</td>\n",
       "    </tr>\n",
       "    <tr>\n",
       "      <th>6</th>\n",
       "      <td>WINDOW_VISIBLE_TRUE</td>\n",
       "      <td>199287</td>\n",
       "      <td>0.057505</td>\n",
       "    </tr>\n",
       "    <tr>\n",
       "      <th>7</th>\n",
       "      <td>VIEW_QUESTION</td>\n",
       "      <td>154592</td>\n",
       "      <td>0.044608</td>\n",
       "    </tr>\n",
       "    <tr>\n",
       "      <th>8</th>\n",
       "      <td>OPEN_FEEDBACK</td>\n",
       "      <td>87071</td>\n",
       "      <td>0.025125</td>\n",
       "    </tr>\n",
       "    <tr>\n",
       "      <th>9</th>\n",
       "      <td>GO_TO_THEORY</td>\n",
       "      <td>80746</td>\n",
       "      <td>0.023300</td>\n",
       "    </tr>\n",
       "  </tbody>\n",
       "</table>\n",
       "</div>"
      ],
      "text/plain": [
       "                 Action   Count   Count %\n",
       "0            PAGE_VISIT  653725  0.188635\n",
       "1           REVIEW_TASK  513389  0.148140\n",
       "2         SUBMIT_ANSWER  419862  0.121153\n",
       "3    NAVIGATE_DASHBOARD  350821  0.101231\n",
       "4                  NEXT  277020  0.079935\n",
       "5  WINDOW_VISIBLE_FALSE  240660  0.069443\n",
       "6   WINDOW_VISIBLE_TRUE  199287  0.057505\n",
       "7         VIEW_QUESTION  154592  0.044608\n",
       "8         OPEN_FEEDBACK   87071  0.025125\n",
       "9          GO_TO_THEORY   80746  0.023300"
      ]
     },
     "execution_count": 12,
     "metadata": {},
     "output_type": "execute_result"
    }
   ],
   "source": [
    "# Your code goes here\n",
    "event_action_count = events.action.value_counts(dropna=False).head(10)\n",
    "pd.DataFrame({\"Action\": event_action_count.index, \"Count\": event_action_count.tolist(), \"Count %\": event_action_count.tolist()/np.array(len(events)) })"
   ]
  },
  {
   "cell_type": "markdown",
   "id": "0e7818a8-e4bc-499c-8683-28b7045e59a2",
   "metadata": {
    "id": "0e7818a8-e4bc-499c-8683-28b7045e59a2"
   },
   "source": [
    "This is an expected behaviour: the most frequent events are about navigating through the website, reviewing and answering the questions. An user logs in usually once per session, but can visit multiple pages multiple times. The actions such as GO_TO_BUG_REPORT are rarer since the user will perform these actions only in unusual situations (finding a bug on the website)."
   ]
  },
  {
   "cell_type": "markdown",
   "id": "55dd2ced-e567-4b23-8795-cce5132cfdad",
   "metadata": {
    "id": "55dd2ced-e567-4b23-8795-cce5132cfdad"
   },
   "source": [
    "## Task 2: Static Analysis\n",
    "\n",
    "In this second task, you will do a univariate an multivariate exploration of some aggregated features."
   ]
  },
  {
   "cell_type": "markdown",
   "id": "c6278746-ebab-45e7-8312-36f6cc1d4e36",
   "metadata": {
    "id": "c6278746-ebab-45e7-8312-36f6cc1d4e36"
   },
   "source": [
    "#### a) Build a data frame containing one row per user:\n",
    "\n",
    "``[user_id, gender, num_events, num_questions, percentage_correct, num_reading]``\n",
    "\n",
    "\n",
    "The features are defined as follows:\n",
    "\n",
    "- **num_questions**: total number of questions the student answered (hint: action event = submit answer)\n",
    "\n",
    "- **num_events**: total number of events of the student  \n",
    "\n",
    "- **percentage_correct**: number of correct answers/total number of answers (hint: evaluation = correct). If desired, you may assign a weight of 0.5 to partially correct answers. \n",
    "\n",
    "- **num_reading**: total number of theory reading events  (hint: action event = go to theory)"
   ]
  },
  {
   "cell_type": "code",
   "execution_count": 13,
   "id": "584f5e7b-187c-4f2e-9c72-f1e5d9565fb6",
   "metadata": {},
   "outputs": [
    {
     "data": {
      "text/html": [
       "<div>\n",
       "<style scoped>\n",
       "    .dataframe tbody tr th:only-of-type {\n",
       "        vertical-align: middle;\n",
       "    }\n",
       "\n",
       "    .dataframe tbody tr th {\n",
       "        vertical-align: top;\n",
       "    }\n",
       "\n",
       "    .dataframe thead th {\n",
       "        text-align: right;\n",
       "    }\n",
       "</style>\n",
       "<table border=\"1\" class=\"dataframe\">\n",
       "  <thead>\n",
       "    <tr style=\"text-align: right;\">\n",
       "      <th></th>\n",
       "      <th>user_id</th>\n",
       "      <th>gender</th>\n",
       "    </tr>\n",
       "  </thead>\n",
       "  <tbody>\n",
       "    <tr>\n",
       "      <th>0</th>\n",
       "      <td>387604</td>\n",
       "      <td>NaN</td>\n",
       "    </tr>\n",
       "    <tr>\n",
       "      <th>1</th>\n",
       "      <td>387605</td>\n",
       "      <td>NaN</td>\n",
       "    </tr>\n",
       "    <tr>\n",
       "      <th>2</th>\n",
       "      <td>387608</td>\n",
       "      <td>NaN</td>\n",
       "    </tr>\n",
       "    <tr>\n",
       "      <th>3</th>\n",
       "      <td>387615</td>\n",
       "      <td>MALE</td>\n",
       "    </tr>\n",
       "    <tr>\n",
       "      <th>4</th>\n",
       "      <td>387643</td>\n",
       "      <td>NaN</td>\n",
       "    </tr>\n",
       "    <tr>\n",
       "      <th>...</th>\n",
       "      <td>...</td>\n",
       "      <td>...</td>\n",
       "    </tr>\n",
       "    <tr>\n",
       "      <th>8122</th>\n",
       "      <td>404597</td>\n",
       "      <td>NaN</td>\n",
       "    </tr>\n",
       "    <tr>\n",
       "      <th>8123</th>\n",
       "      <td>404598</td>\n",
       "      <td>MALE</td>\n",
       "    </tr>\n",
       "    <tr>\n",
       "      <th>8124</th>\n",
       "      <td>404599</td>\n",
       "      <td>NaN</td>\n",
       "    </tr>\n",
       "    <tr>\n",
       "      <th>8125</th>\n",
       "      <td>404603</td>\n",
       "      <td>FEMALE</td>\n",
       "    </tr>\n",
       "    <tr>\n",
       "      <th>8126</th>\n",
       "      <td>404604</td>\n",
       "      <td>FEMALE</td>\n",
       "    </tr>\n",
       "  </tbody>\n",
       "</table>\n",
       "<p>8127 rows × 2 columns</p>\n",
       "</div>"
      ],
      "text/plain": [
       "      user_id  gender\n",
       "0      387604     NaN\n",
       "1      387605     NaN\n",
       "2      387608     NaN\n",
       "3      387615    MALE\n",
       "4      387643     NaN\n",
       "...       ...     ...\n",
       "8122   404597     NaN\n",
       "8123   404598    MALE\n",
       "8124   404599     NaN\n",
       "8125   404603  FEMALE\n",
       "8126   404604  FEMALE\n",
       "\n",
       "[8127 rows x 2 columns]"
      ]
     },
     "execution_count": 13,
     "metadata": {},
     "output_type": "execute_result"
    }
   ],
   "source": [
    "active_users = set(transactions['user_id'].unique()) & set(events['user_id'].unique())\n",
    "df_active_users = pd.merge(users[['user_id', 'gender']], pd.DataFrame({'user_id': list(active_users)}), on='user_id', how='inner')\n",
    "df_active_users"
   ]
  },
  {
   "cell_type": "code",
   "execution_count": 14,
   "id": "99d89525-2f34-4515-b540-602574206620",
   "metadata": {},
   "outputs": [],
   "source": [
    "events_count = events.user_id.value_counts(dropna=False)\n",
    "df_event_count = pd.DataFrame({'user_id': events_count.index, 'num_events': events_count.tolist()})"
   ]
  },
  {
   "cell_type": "code",
   "execution_count": 15,
   "id": "ee189bf9-1713-4524-9bdb-43d7c4731589",
   "metadata": {
    "scrolled": true,
    "tags": []
   },
   "outputs": [],
   "source": [
    "# Your code for building the data frame here\n",
    "res1 = pd.merge(df_active_users, df_event_count, on='user_id', how='inner')"
   ]
  },
  {
   "cell_type": "code",
   "execution_count": 16,
   "id": "3fea67c3-60ce-4f5c-8f3b-6329fa3486d4",
   "metadata": {},
   "outputs": [],
   "source": [
    "questions_count = transactions[transactions['evaluation'].notna()].user_id.value_counts()\n",
    "df_questions_count = pd.DataFrame({'user_id': questions_count.index, 'num_questions': questions_count.tolist()})"
   ]
  },
  {
   "cell_type": "code",
   "execution_count": 17,
   "id": "93446b65-15cc-4549-b34b-71f9c0a72969",
   "metadata": {},
   "outputs": [],
   "source": [
    "res2 = pd.merge(res1, df_questions_count, on='user_id', how='left').fillna(value={'num_questions':0})"
   ]
  },
  {
   "cell_type": "code",
   "execution_count": 18,
   "id": "9674fbaa-5081-4886-86c2-809a2f3c2b72",
   "metadata": {},
   "outputs": [],
   "source": [
    "correct_count = transactions.loc[transactions['evaluation'] == 'CORRECT'].user_id.value_counts(dropna=True)\n",
    "partial_count = transactions.loc[transactions['evaluation'] == 'PARTIAL'].user_id.value_counts(dropna=True) * 1/2\n",
    "eval_count = correct_count.add(partial_count, fill_value=0)\n",
    "df_eval_count = pd.DataFrame({'user_id': eval_count.index, 'correct': eval_count.tolist()})"
   ]
  },
  {
   "cell_type": "code",
   "execution_count": 19,
   "id": "710d123f-d58c-4a79-af09-46d669f4a2a1",
   "metadata": {},
   "outputs": [
    {
     "data": {
      "text/html": [
       "<div>\n",
       "<style scoped>\n",
       "    .dataframe tbody tr th:only-of-type {\n",
       "        vertical-align: middle;\n",
       "    }\n",
       "\n",
       "    .dataframe tbody tr th {\n",
       "        vertical-align: top;\n",
       "    }\n",
       "\n",
       "    .dataframe thead th {\n",
       "        text-align: right;\n",
       "    }\n",
       "</style>\n",
       "<table border=\"1\" class=\"dataframe\">\n",
       "  <thead>\n",
       "    <tr style=\"text-align: right;\">\n",
       "      <th></th>\n",
       "      <th>user_id</th>\n",
       "      <th>num_questions</th>\n",
       "      <th>correct</th>\n",
       "      <th>percentage_correct</th>\n",
       "    </tr>\n",
       "  </thead>\n",
       "  <tbody>\n",
       "    <tr>\n",
       "      <th>0</th>\n",
       "      <td>396334.0</td>\n",
       "      <td>1052</td>\n",
       "      <td>753.5</td>\n",
       "      <td>0.716255</td>\n",
       "    </tr>\n",
       "    <tr>\n",
       "      <th>1</th>\n",
       "      <td>394780.0</td>\n",
       "      <td>974</td>\n",
       "      <td>766.0</td>\n",
       "      <td>0.786448</td>\n",
       "    </tr>\n",
       "    <tr>\n",
       "      <th>2</th>\n",
       "      <td>394987.0</td>\n",
       "      <td>911</td>\n",
       "      <td>602.0</td>\n",
       "      <td>0.660812</td>\n",
       "    </tr>\n",
       "    <tr>\n",
       "      <th>3</th>\n",
       "      <td>394761.0</td>\n",
       "      <td>910</td>\n",
       "      <td>537.5</td>\n",
       "      <td>0.590659</td>\n",
       "    </tr>\n",
       "    <tr>\n",
       "      <th>4</th>\n",
       "      <td>394762.0</td>\n",
       "      <td>898</td>\n",
       "      <td>626.5</td>\n",
       "      <td>0.697661</td>\n",
       "    </tr>\n",
       "    <tr>\n",
       "      <th>...</th>\n",
       "      <td>...</td>\n",
       "      <td>...</td>\n",
       "      <td>...</td>\n",
       "      <td>...</td>\n",
       "    </tr>\n",
       "    <tr>\n",
       "      <th>10212</th>\n",
       "      <td>396600.0</td>\n",
       "      <td>1</td>\n",
       "      <td>0.0</td>\n",
       "      <td>0.000000</td>\n",
       "    </tr>\n",
       "    <tr>\n",
       "      <th>10213</th>\n",
       "      <td>396601.0</td>\n",
       "      <td>1</td>\n",
       "      <td>0.0</td>\n",
       "      <td>0.000000</td>\n",
       "    </tr>\n",
       "    <tr>\n",
       "      <th>10214</th>\n",
       "      <td>396727.0</td>\n",
       "      <td>1</td>\n",
       "      <td>1.0</td>\n",
       "      <td>1.000000</td>\n",
       "    </tr>\n",
       "    <tr>\n",
       "      <th>10215</th>\n",
       "      <td>396744.0</td>\n",
       "      <td>1</td>\n",
       "      <td>0.5</td>\n",
       "      <td>0.500000</td>\n",
       "    </tr>\n",
       "    <tr>\n",
       "      <th>10216</th>\n",
       "      <td>396731.0</td>\n",
       "      <td>1</td>\n",
       "      <td>1.0</td>\n",
       "      <td>1.000000</td>\n",
       "    </tr>\n",
       "  </tbody>\n",
       "</table>\n",
       "<p>10217 rows × 4 columns</p>\n",
       "</div>"
      ],
      "text/plain": [
       "        user_id  num_questions  correct  percentage_correct\n",
       "0      396334.0           1052    753.5            0.716255\n",
       "1      394780.0            974    766.0            0.786448\n",
       "2      394987.0            911    602.0            0.660812\n",
       "3      394761.0            910    537.5            0.590659\n",
       "4      394762.0            898    626.5            0.697661\n",
       "...         ...            ...      ...                 ...\n",
       "10212  396600.0              1      0.0            0.000000\n",
       "10213  396601.0              1      0.0            0.000000\n",
       "10214  396727.0              1      1.0            1.000000\n",
       "10215  396744.0              1      0.5            0.500000\n",
       "10216  396731.0              1      1.0            1.000000\n",
       "\n",
       "[10217 rows x 4 columns]"
      ]
     },
     "execution_count": 19,
     "metadata": {},
     "output_type": "execute_result"
    }
   ],
   "source": [
    "df_questions_correct = pd.merge(df_questions_count, df_eval_count, on='user_id', how='left').fillna(\n",
    "    value={'correct':0})\n",
    "df_questions_correct['percentage_correct'] = df_questions_correct['correct'] / df_questions_correct['num_questions']\n",
    "df_questions_correct"
   ]
  },
  {
   "cell_type": "code",
   "execution_count": 20,
   "id": "a186d6e8-2761-495f-b7ce-d2e2cb4802ad",
   "metadata": {},
   "outputs": [],
   "source": [
    "res3 = pd.merge(res2, df_questions_correct[['user_id', 'percentage_correct']], on='user_id', how='left')"
   ]
  },
  {
   "cell_type": "code",
   "execution_count": 21,
   "id": "06e9937e-46cf-40d3-a8ef-57906c95997f",
   "metadata": {},
   "outputs": [],
   "source": [
    "readings_count = events.loc[events['action']=='GO_TO_THEORY'].user_id.value_counts(dropna=False)\n",
    "df_readings_count = pd.DataFrame({'user_id': readings_count.index, 'num_readings': readings_count.tolist()})"
   ]
  },
  {
   "cell_type": "code",
   "execution_count": 22,
   "id": "639a67b9-ed87-48cf-be99-e45fa1b17868",
   "metadata": {},
   "outputs": [
    {
     "data": {
      "text/html": [
       "<div>\n",
       "<style scoped>\n",
       "    .dataframe tbody tr th:only-of-type {\n",
       "        vertical-align: middle;\n",
       "    }\n",
       "\n",
       "    .dataframe tbody tr th {\n",
       "        vertical-align: top;\n",
       "    }\n",
       "\n",
       "    .dataframe thead th {\n",
       "        text-align: right;\n",
       "    }\n",
       "</style>\n",
       "<table border=\"1\" class=\"dataframe\">\n",
       "  <thead>\n",
       "    <tr style=\"text-align: right;\">\n",
       "      <th></th>\n",
       "      <th>user_id</th>\n",
       "      <th>gender</th>\n",
       "      <th>num_events</th>\n",
       "      <th>num_questions</th>\n",
       "      <th>percentage_correct</th>\n",
       "      <th>num_readings</th>\n",
       "    </tr>\n",
       "  </thead>\n",
       "  <tbody>\n",
       "    <tr>\n",
       "      <th>0</th>\n",
       "      <td>387604</td>\n",
       "      <td>NaN</td>\n",
       "      <td>2606</td>\n",
       "      <td>97.0</td>\n",
       "      <td>0.536082</td>\n",
       "      <td>368.0</td>\n",
       "    </tr>\n",
       "    <tr>\n",
       "      <th>1</th>\n",
       "      <td>387605</td>\n",
       "      <td>NaN</td>\n",
       "      <td>3331</td>\n",
       "      <td>510.0</td>\n",
       "      <td>0.648039</td>\n",
       "      <td>33.0</td>\n",
       "    </tr>\n",
       "    <tr>\n",
       "      <th>2</th>\n",
       "      <td>387608</td>\n",
       "      <td>NaN</td>\n",
       "      <td>866</td>\n",
       "      <td>151.0</td>\n",
       "      <td>0.821192</td>\n",
       "      <td>23.0</td>\n",
       "    </tr>\n",
       "    <tr>\n",
       "      <th>3</th>\n",
       "      <td>387615</td>\n",
       "      <td>MALE</td>\n",
       "      <td>492</td>\n",
       "      <td>111.0</td>\n",
       "      <td>0.720721</td>\n",
       "      <td>10.0</td>\n",
       "    </tr>\n",
       "    <tr>\n",
       "      <th>4</th>\n",
       "      <td>387643</td>\n",
       "      <td>NaN</td>\n",
       "      <td>4</td>\n",
       "      <td>11.0</td>\n",
       "      <td>0.681818</td>\n",
       "      <td>0.0</td>\n",
       "    </tr>\n",
       "    <tr>\n",
       "      <th>...</th>\n",
       "      <td>...</td>\n",
       "      <td>...</td>\n",
       "      <td>...</td>\n",
       "      <td>...</td>\n",
       "      <td>...</td>\n",
       "      <td>...</td>\n",
       "    </tr>\n",
       "    <tr>\n",
       "      <th>8122</th>\n",
       "      <td>404597</td>\n",
       "      <td>NaN</td>\n",
       "      <td>95</td>\n",
       "      <td>1.0</td>\n",
       "      <td>0.500000</td>\n",
       "      <td>8.0</td>\n",
       "    </tr>\n",
       "    <tr>\n",
       "      <th>8123</th>\n",
       "      <td>404598</td>\n",
       "      <td>MALE</td>\n",
       "      <td>225</td>\n",
       "      <td>1.0</td>\n",
       "      <td>1.000000</td>\n",
       "      <td>15.0</td>\n",
       "    </tr>\n",
       "    <tr>\n",
       "      <th>8124</th>\n",
       "      <td>404599</td>\n",
       "      <td>NaN</td>\n",
       "      <td>169</td>\n",
       "      <td>1.0</td>\n",
       "      <td>1.000000</td>\n",
       "      <td>38.0</td>\n",
       "    </tr>\n",
       "    <tr>\n",
       "      <th>8125</th>\n",
       "      <td>404603</td>\n",
       "      <td>FEMALE</td>\n",
       "      <td>112</td>\n",
       "      <td>13.0</td>\n",
       "      <td>0.653846</td>\n",
       "      <td>0.0</td>\n",
       "    </tr>\n",
       "    <tr>\n",
       "      <th>8126</th>\n",
       "      <td>404604</td>\n",
       "      <td>FEMALE</td>\n",
       "      <td>43</td>\n",
       "      <td>4.0</td>\n",
       "      <td>0.375000</td>\n",
       "      <td>0.0</td>\n",
       "    </tr>\n",
       "  </tbody>\n",
       "</table>\n",
       "<p>8127 rows × 6 columns</p>\n",
       "</div>"
      ],
      "text/plain": [
       "      user_id  gender  num_events  num_questions  percentage_correct  \\\n",
       "0      387604     NaN        2606           97.0            0.536082   \n",
       "1      387605     NaN        3331          510.0            0.648039   \n",
       "2      387608     NaN         866          151.0            0.821192   \n",
       "3      387615    MALE         492          111.0            0.720721   \n",
       "4      387643     NaN           4           11.0            0.681818   \n",
       "...       ...     ...         ...            ...                 ...   \n",
       "8122   404597     NaN          95            1.0            0.500000   \n",
       "8123   404598    MALE         225            1.0            1.000000   \n",
       "8124   404599     NaN         169            1.0            1.000000   \n",
       "8125   404603  FEMALE         112           13.0            0.653846   \n",
       "8126   404604  FEMALE          43            4.0            0.375000   \n",
       "\n",
       "      num_readings  \n",
       "0            368.0  \n",
       "1             33.0  \n",
       "2             23.0  \n",
       "3             10.0  \n",
       "4              0.0  \n",
       "...            ...  \n",
       "8122           8.0  \n",
       "8123          15.0  \n",
       "8124          38.0  \n",
       "8125           0.0  \n",
       "8126           0.0  \n",
       "\n",
       "[8127 rows x 6 columns]"
      ]
     },
     "execution_count": 22,
     "metadata": {},
     "output_type": "execute_result"
    }
   ],
   "source": [
    "res4 = pd.merge(res3, df_readings_count, on='user_id', how='left').fillna(value={'num_readings':0})\n",
    "res4"
   ]
  },
  {
   "cell_type": "markdown",
   "id": "c7648e7d-45ff-40ef-8fc9-ccfba1ba7229",
   "metadata": {
    "id": "c7648e7d-45ff-40ef-8fc9-ccfba1ba7229"
   },
   "source": [
    "b) Perform a univariate analysis (including descriptive statistics and visualizations) for the five features (gender, num_events, num_questions, percentage_correct, num_reading) of your dataframe. Please check the lecture slides regarding information on how to perform a univariate analysis for categorical and numerical features. Discuss your results: how are the features distributed? Are there any anomalities?"
   ]
  },
  {
   "cell_type": "code",
   "execution_count": 23,
   "id": "e1d63e93-976a-4585-9675-8b0c3c7661d9",
   "metadata": {
    "id": "e1d63e93-976a-4585-9675-8b0c3c7661d9"
   },
   "outputs": [
    {
     "data": {
      "text/html": [
       "<div>\n",
       "<style scoped>\n",
       "    .dataframe tbody tr th:only-of-type {\n",
       "        vertical-align: middle;\n",
       "    }\n",
       "\n",
       "    .dataframe tbody tr th {\n",
       "        vertical-align: top;\n",
       "    }\n",
       "\n",
       "    .dataframe thead th {\n",
       "        text-align: right;\n",
       "    }\n",
       "</style>\n",
       "<table border=\"1\" class=\"dataframe\">\n",
       "  <thead>\n",
       "    <tr style=\"text-align: right;\">\n",
       "      <th></th>\n",
       "      <th>Gender</th>\n",
       "      <th>Count</th>\n",
       "      <th>Count %</th>\n",
       "    </tr>\n",
       "  </thead>\n",
       "  <tbody>\n",
       "    <tr>\n",
       "      <th>0</th>\n",
       "      <td>FEMALE</td>\n",
       "      <td>3989</td>\n",
       "      <td>0.490833</td>\n",
       "    </tr>\n",
       "    <tr>\n",
       "      <th>1</th>\n",
       "      <td>MALE</td>\n",
       "      <td>2686</td>\n",
       "      <td>0.330503</td>\n",
       "    </tr>\n",
       "    <tr>\n",
       "      <th>2</th>\n",
       "      <td>NaN</td>\n",
       "      <td>1090</td>\n",
       "      <td>0.134121</td>\n",
       "    </tr>\n",
       "    <tr>\n",
       "      <th>3</th>\n",
       "      <td>STAR</td>\n",
       "      <td>362</td>\n",
       "      <td>0.044543</td>\n",
       "    </tr>\n",
       "  </tbody>\n",
       "</table>\n",
       "</div>"
      ],
      "text/plain": [
       "   Gender  Count   Count %\n",
       "0  FEMALE   3989  0.490833\n",
       "1    MALE   2686  0.330503\n",
       "2     NaN   1090  0.134121\n",
       "3    STAR    362  0.044543"
      ]
     },
     "execution_count": 23,
     "metadata": {},
     "output_type": "execute_result"
    }
   ],
   "source": [
    "# Gender: categorical feature\n",
    "gender = res4.gender.value_counts(dropna=False)\n",
    "df_gender = pd.DataFrame({\"Gender\": gender.index, \"Count\": gender.tolist(), \"Count %\": gender.tolist()/np.sum(gender.tolist()) })\n",
    "df_gender"
   ]
  },
  {
   "cell_type": "code",
   "execution_count": 24,
   "id": "aed00c93-6c3e-48f7-a3c1-8f0d31e2f5b9",
   "metadata": {},
   "outputs": [
    {
     "data": {
      "text/plain": [
       "[Text(0.5, 0, 'Gender'), Text(0, 0.5, 'Count')]"
      ]
     },
     "execution_count": 24,
     "metadata": {},
     "output_type": "execute_result"
    },
    {
     "data": {
      "image/png": "[encoded data removed]",
      "text/plain": [
       "<Figure size 432x288 with 1 Axes>"
      ]
     },
     "metadata": {
      "needs_background": "light"
     },
     "output_type": "display_data"
    }
   ],
   "source": [
    "ax = sns.countplot(data=res4, x= 'gender')\n",
    "ax.set(xlabel='Gender', ylabel='Count')"
   ]
  },
  {
   "cell_type": "markdown",
   "id": "da9e7a90-47b5-4c5c-8d3f-10e8c8078009",
   "metadata": {
    "id": "da9e7a90-47b5-4c5c-8d3f-10e8c8078009"
   },
   "source": [
    "#### Analysis:\n",
    "There are 16% more women than men in the dataset. 13% of the users do not provide information. 4% of the users have the value star, which is gender neutral. This can be considered as an anomaly, in the sense that it is not mentionned in the overview of the users table. Otherwise the distribution is unexpected, but not unnatural."
   ]
  },
  {
   "cell_type": "code",
   "execution_count": 25,
   "id": "2e823d37-4036-4dce-9522-d776057cd07f",
   "metadata": {},
   "outputs": [
    {
     "data": {
      "text/html": [
       "<div>\n",
       "<style scoped>\n",
       "    .dataframe tbody tr th:only-of-type {\n",
       "        vertical-align: middle;\n",
       "    }\n",
       "\n",
       "    .dataframe tbody tr th {\n",
       "        vertical-align: top;\n",
       "    }\n",
       "\n",
       "    .dataframe thead th {\n",
       "        text-align: right;\n",
       "    }\n",
       "</style>\n",
       "<table border=\"1\" class=\"dataframe\">\n",
       "  <thead>\n",
       "    <tr style=\"text-align: right;\">\n",
       "      <th></th>\n",
       "      <th>Mean</th>\n",
       "      <th>Median</th>\n",
       "      <th>Mode</th>\n",
       "      <th>Variance</th>\n",
       "      <th>Std</th>\n",
       "      <th>Minimum</th>\n",
       "      <th>25%</th>\n",
       "      <th>75%</th>\n",
       "      <th>Maximum</th>\n",
       "    </tr>\n",
       "  </thead>\n",
       "  <tbody>\n",
       "    <tr>\n",
       "      <th>num_events</th>\n",
       "      <td>399.224068</td>\n",
       "      <td>210.000000</td>\n",
       "      <td>59.0</td>\n",
       "      <td>392830.986461</td>\n",
       "      <td>626.762305</td>\n",
       "      <td>1.0</td>\n",
       "      <td>103.000000</td>\n",
       "      <td>432.00</td>\n",
       "      <td>10044.0</td>\n",
       "    </tr>\n",
       "    <tr>\n",
       "      <th>num_questions</th>\n",
       "      <td>53.424265</td>\n",
       "      <td>27.000000</td>\n",
       "      <td>5.0</td>\n",
       "      <td>7292.309725</td>\n",
       "      <td>85.395022</td>\n",
       "      <td>0.0</td>\n",
       "      <td>11.000000</td>\n",
       "      <td>60.00</td>\n",
       "      <td>1052.0</td>\n",
       "    </tr>\n",
       "    <tr>\n",
       "      <th>percentage_correct</th>\n",
       "      <td>0.659517</td>\n",
       "      <td>0.666667</td>\n",
       "      <td>0.5</td>\n",
       "      <td>0.022010</td>\n",
       "      <td>0.148357</td>\n",
       "      <td>0.0</td>\n",
       "      <td>0.583333</td>\n",
       "      <td>0.75</td>\n",
       "      <td>1.0</td>\n",
       "    </tr>\n",
       "    <tr>\n",
       "      <th>num_readings</th>\n",
       "      <td>9.751815</td>\n",
       "      <td>1.000000</td>\n",
       "      <td>0.0</td>\n",
       "      <td>1712.131957</td>\n",
       "      <td>41.377916</td>\n",
       "      <td>0.0</td>\n",
       "      <td>0.000000</td>\n",
       "      <td>7.00</td>\n",
       "      <td>2404.0</td>\n",
       "    </tr>\n",
       "  </tbody>\n",
       "</table>\n",
       "</div>"
      ],
      "text/plain": [
       "                          Mean      Median  Mode       Variance         Std  \\\n",
       "num_events          399.224068  210.000000  59.0  392830.986461  626.762305   \n",
       "num_questions        53.424265   27.000000   5.0    7292.309725   85.395022   \n",
       "percentage_correct    0.659517    0.666667   0.5       0.022010    0.148357   \n",
       "num_readings          9.751815    1.000000   0.0    1712.131957   41.377916   \n",
       "\n",
       "                    Minimum         25%     75%  Maximum  \n",
       "num_events              1.0  103.000000  432.00  10044.0  \n",
       "num_questions           0.0   11.000000   60.00   1052.0  \n",
       "percentage_correct      0.0    0.583333    0.75      1.0  \n",
       "num_readings            0.0    0.000000    7.00   2404.0  "
      ]
     },
     "metadata": {},
     "output_type": "display_data"
    }
   ],
   "source": [
    "feature_list = [res4['num_events'], res4['num_questions'], res4['percentage_correct'], res4['num_readings']]\n",
    "data = {'Mean': np.nanmean(feature_list,1),\n",
    "        'Median':np.nanmedian(feature_list,1),\n",
    "        'Mode': (stats.mode(feature_list,axis=1, nan_policy='omit')[0])[:,0],\n",
    "        'Variance':np.nanvar(feature_list,1),\n",
    "        'Std':np.nanstd(feature_list,1),\n",
    "        'Minimum': np.nanmin(feature_list,1),\n",
    "        '25%': np.nanpercentile(feature_list, 25, axis=1),\n",
    "        '75%': np.nanpercentile(feature_list, 75, axis=1),\n",
    "        'Maximum': np.nanmax(feature_list,1)}\n",
    "desc_stats_df = pd.DataFrame(data, index =['num_events', 'num_questions', 'percentage_correct',\n",
    "       'num_readings'])\n",
    "\n",
    "display(desc_stats_df)"
   ]
  },
  {
   "cell_type": "code",
   "execution_count": 26,
   "id": "a0cc53cb-ee13-40cf-b0bf-db6c3ac145e7",
   "metadata": {},
   "outputs": [
    {
     "data": {
      "image/png": "[encoded data removed]",
      "text/plain": [
       "<Figure size 432x288 with 1 Axes>"
      ]
     },
     "metadata": {
      "needs_background": "light"
     },
     "output_type": "display_data"
    },
    {
     "data": {
      "image/png": "[encoded data removed]",
      "text/plain": [
       "<Figure size 432x288 with 1 Axes>"
      ]
     },
     "metadata": {
      "needs_background": "light"
     },
     "output_type": "display_data"
    },
    {
     "data": {
      "image/png": "[encoded data removed]",
      "text/plain": [
       "<Figure size 432x288 with 1 Axes>"
      ]
     },
     "metadata": {
      "needs_background": "light"
     },
     "output_type": "display_data"
    },
    {
     "data": {
      "image/png": "[encoded data removed]",
      "text/plain": [
       "<Figure size 432x288 with 1 Axes>"
      ]
     },
     "metadata": {
      "needs_background": "light"
     },
     "output_type": "display_data"
    }
   ],
   "source": [
    "sns.histplot(data=res4, x = 'num_events', kde=True) \n",
    "plt.show()\n",
    "\n",
    "sns.histplot(data=res4, x = 'num_questions', kde=True) \n",
    "plt.show()\n",
    "\n",
    "sns.histplot(data=res4, x = 'percentage_correct', kde=True) \n",
    "plt.show()\n",
    "\n",
    "sns.histplot(data=res4, x = 'num_readings', kde=True, bins=200) \n",
    "plt.show()"
   ]
  },
  {
   "cell_type": "markdown",
   "id": "9376106b-b7f5-4ca5-89a9-bf584f00462b",
   "metadata": {},
   "source": [
    "#### Data processing: \n",
    "The number of questions answered is the number of transactions for which evaluation =/= NaN, since the event table is newer than the transaction table, there are transactions that are not recorded in the event table, which would make the feature percentage_correct inconsistent: there would be more correct answers than answer submitted. \n",
    "\n",
    "We process the users such that users that do not appear in all three tables are removed, since we would not be able to distinguish if the user has not submitted any transaction / has not interacted with the website at all, or we just do not have access to such information, which could make analysis harder. \n",
    "Users with no question answered are kept, they appear in all three tables so we know that they have at least viewed a question, but did not answer. Their percentage_correct value is NaN, but we ignore those values when computing the distribution of that feature. Users with 0 readings have interacted with the website but have not navigated to a course theory page.\n",
    "\n",
    "#### Analysis: \n",
    "The features num_events, num_questions and num_readings follow a Poisson distribution, since we count the number of times they performed such action in a timeframe. They have mean values that are higher than their median and have very high variance. There are outliers with very high values, for example there are users with more than 1000 questions answered, but the majority of users have low values. This is expected as students may read and answers questions from a few courses that they need practice in, but may not need to do so for every course. \\\n",
    "The feature percentage_correct follows a Binomial distribution, we count the number of successes in a number of tests. The distribution is a bit left skewed. This is expected for student performance."
   ]
  },
  {
   "cell_type": "markdown",
   "id": "e5d52cd8-9927-401b-a3c3-a4ab2e46b445",
   "metadata": {
    "id": "e5d52cd8-9927-401b-a3c3-a4ab2e46b445"
   },
   "source": [
    "c) Come up with two additional features on your own and add them to the dataframe. Please provide an explanation/description of your features as well as an argument/hypothesis of why you think these features are interesting to explore."
   ]
  },
  {
   "cell_type": "code",
   "execution_count": 27,
   "id": "0b374606-91f5-45b0-bb31-03d494fa5c69",
   "metadata": {
    "id": "0b374606-91f5-45b0-bb31-03d494fa5c69"
   },
   "outputs": [
    {
     "data": {
      "text/html": [
       "<div>\n",
       "<style scoped>\n",
       "    .dataframe tbody tr th:only-of-type {\n",
       "        vertical-align: middle;\n",
       "    }\n",
       "\n",
       "    .dataframe tbody tr th {\n",
       "        vertical-align: top;\n",
       "    }\n",
       "\n",
       "    .dataframe thead th {\n",
       "        text-align: right;\n",
       "    }\n",
       "</style>\n",
       "<table border=\"1\" class=\"dataframe\">\n",
       "  <thead>\n",
       "    <tr style=\"text-align: right;\">\n",
       "      <th></th>\n",
       "      <th>user_id</th>\n",
       "      <th>num_feedback_opened</th>\n",
       "    </tr>\n",
       "  </thead>\n",
       "  <tbody>\n",
       "    <tr>\n",
       "      <th>0</th>\n",
       "      <td>394677</td>\n",
       "      <td>412</td>\n",
       "    </tr>\n",
       "    <tr>\n",
       "      <th>1</th>\n",
       "      <td>400292</td>\n",
       "      <td>385</td>\n",
       "    </tr>\n",
       "    <tr>\n",
       "      <th>2</th>\n",
       "      <td>394675</td>\n",
       "      <td>382</td>\n",
       "    </tr>\n",
       "    <tr>\n",
       "      <th>3</th>\n",
       "      <td>396334</td>\n",
       "      <td>362</td>\n",
       "    </tr>\n",
       "    <tr>\n",
       "      <th>4</th>\n",
       "      <td>394987</td>\n",
       "      <td>315</td>\n",
       "    </tr>\n",
       "    <tr>\n",
       "      <th>...</th>\n",
       "      <td>...</td>\n",
       "      <td>...</td>\n",
       "    </tr>\n",
       "    <tr>\n",
       "      <th>4198</th>\n",
       "      <td>395700</td>\n",
       "      <td>1</td>\n",
       "    </tr>\n",
       "    <tr>\n",
       "      <th>4199</th>\n",
       "      <td>401081</td>\n",
       "      <td>1</td>\n",
       "    </tr>\n",
       "    <tr>\n",
       "      <th>4200</th>\n",
       "      <td>401079</td>\n",
       "      <td>1</td>\n",
       "    </tr>\n",
       "    <tr>\n",
       "      <th>4201</th>\n",
       "      <td>401082</td>\n",
       "      <td>1</td>\n",
       "    </tr>\n",
       "    <tr>\n",
       "      <th>4202</th>\n",
       "      <td>404550</td>\n",
       "      <td>1</td>\n",
       "    </tr>\n",
       "  </tbody>\n",
       "</table>\n",
       "<p>4203 rows × 2 columns</p>\n",
       "</div>"
      ],
      "text/plain": [
       "      user_id  num_feedback_opened\n",
       "0      394677                  412\n",
       "1      400292                  385\n",
       "2      394675                  382\n",
       "3      396334                  362\n",
       "4      394987                  315\n",
       "...       ...                  ...\n",
       "4198   395700                    1\n",
       "4199   401081                    1\n",
       "4200   401079                    1\n",
       "4201   401082                    1\n",
       "4202   404550                    1\n",
       "\n",
       "[4203 rows x 2 columns]"
      ]
     },
     "execution_count": 27,
     "metadata": {},
     "output_type": "execute_result"
    }
   ],
   "source": [
    "# Your code for computing the features and adding them to the df goes here\n",
    "# average time of answer, request hint: does a user usually \n",
    "feedback_count = events.loc[events['action'] == 'OPEN_FEEDBACK'].user_id.value_counts()\n",
    "df_feedback_count = pd.DataFrame({'user_id': feedback_count.index, 'num_feedback_opened': feedback_count.tolist()})\n",
    "df_feedback_count"
   ]
  },
  {
   "cell_type": "code",
   "execution_count": 28,
   "id": "e03eeb45-2b15-4f9f-9615-2c0412db2f90",
   "metadata": {},
   "outputs": [
    {
     "data": {
      "text/html": [
       "<div>\n",
       "<style scoped>\n",
       "    .dataframe tbody tr th:only-of-type {\n",
       "        vertical-align: middle;\n",
       "    }\n",
       "\n",
       "    .dataframe tbody tr th {\n",
       "        vertical-align: top;\n",
       "    }\n",
       "\n",
       "    .dataframe thead th {\n",
       "        text-align: right;\n",
       "    }\n",
       "</style>\n",
       "<table border=\"1\" class=\"dataframe\">\n",
       "  <thead>\n",
       "    <tr style=\"text-align: right;\">\n",
       "      <th></th>\n",
       "      <th>user_id</th>\n",
       "      <th>gender</th>\n",
       "      <th>num_events</th>\n",
       "      <th>num_questions</th>\n",
       "      <th>percentage_correct</th>\n",
       "      <th>num_readings</th>\n",
       "      <th>num_feedback_opened</th>\n",
       "    </tr>\n",
       "  </thead>\n",
       "  <tbody>\n",
       "    <tr>\n",
       "      <th>0</th>\n",
       "      <td>387604</td>\n",
       "      <td>NaN</td>\n",
       "      <td>2606</td>\n",
       "      <td>97.0</td>\n",
       "      <td>0.536082</td>\n",
       "      <td>368.0</td>\n",
       "      <td>0.0</td>\n",
       "    </tr>\n",
       "    <tr>\n",
       "      <th>1</th>\n",
       "      <td>387605</td>\n",
       "      <td>NaN</td>\n",
       "      <td>3331</td>\n",
       "      <td>510.0</td>\n",
       "      <td>0.648039</td>\n",
       "      <td>33.0</td>\n",
       "      <td>70.0</td>\n",
       "    </tr>\n",
       "    <tr>\n",
       "      <th>2</th>\n",
       "      <td>387608</td>\n",
       "      <td>NaN</td>\n",
       "      <td>866</td>\n",
       "      <td>151.0</td>\n",
       "      <td>0.821192</td>\n",
       "      <td>23.0</td>\n",
       "      <td>3.0</td>\n",
       "    </tr>\n",
       "    <tr>\n",
       "      <th>3</th>\n",
       "      <td>387615</td>\n",
       "      <td>MALE</td>\n",
       "      <td>492</td>\n",
       "      <td>111.0</td>\n",
       "      <td>0.720721</td>\n",
       "      <td>10.0</td>\n",
       "      <td>1.0</td>\n",
       "    </tr>\n",
       "    <tr>\n",
       "      <th>4</th>\n",
       "      <td>387643</td>\n",
       "      <td>NaN</td>\n",
       "      <td>4</td>\n",
       "      <td>11.0</td>\n",
       "      <td>0.681818</td>\n",
       "      <td>0.0</td>\n",
       "      <td>0.0</td>\n",
       "    </tr>\n",
       "    <tr>\n",
       "      <th>...</th>\n",
       "      <td>...</td>\n",
       "      <td>...</td>\n",
       "      <td>...</td>\n",
       "      <td>...</td>\n",
       "      <td>...</td>\n",
       "      <td>...</td>\n",
       "      <td>...</td>\n",
       "    </tr>\n",
       "    <tr>\n",
       "      <th>8122</th>\n",
       "      <td>404597</td>\n",
       "      <td>NaN</td>\n",
       "      <td>95</td>\n",
       "      <td>1.0</td>\n",
       "      <td>0.500000</td>\n",
       "      <td>8.0</td>\n",
       "      <td>0.0</td>\n",
       "    </tr>\n",
       "    <tr>\n",
       "      <th>8123</th>\n",
       "      <td>404598</td>\n",
       "      <td>MALE</td>\n",
       "      <td>225</td>\n",
       "      <td>1.0</td>\n",
       "      <td>1.000000</td>\n",
       "      <td>15.0</td>\n",
       "      <td>0.0</td>\n",
       "    </tr>\n",
       "    <tr>\n",
       "      <th>8124</th>\n",
       "      <td>404599</td>\n",
       "      <td>NaN</td>\n",
       "      <td>169</td>\n",
       "      <td>1.0</td>\n",
       "      <td>1.000000</td>\n",
       "      <td>38.0</td>\n",
       "      <td>0.0</td>\n",
       "    </tr>\n",
       "    <tr>\n",
       "      <th>8125</th>\n",
       "      <td>404603</td>\n",
       "      <td>FEMALE</td>\n",
       "      <td>112</td>\n",
       "      <td>13.0</td>\n",
       "      <td>0.653846</td>\n",
       "      <td>0.0</td>\n",
       "      <td>7.0</td>\n",
       "    </tr>\n",
       "    <tr>\n",
       "      <th>8126</th>\n",
       "      <td>404604</td>\n",
       "      <td>FEMALE</td>\n",
       "      <td>43</td>\n",
       "      <td>4.0</td>\n",
       "      <td>0.375000</td>\n",
       "      <td>0.0</td>\n",
       "      <td>0.0</td>\n",
       "    </tr>\n",
       "  </tbody>\n",
       "</table>\n",
       "<p>8127 rows × 7 columns</p>\n",
       "</div>"
      ],
      "text/plain": [
       "      user_id  gender  num_events  num_questions  percentage_correct  \\\n",
       "0      387604     NaN        2606           97.0            0.536082   \n",
       "1      387605     NaN        3331          510.0            0.648039   \n",
       "2      387608     NaN         866          151.0            0.821192   \n",
       "3      387615    MALE         492          111.0            0.720721   \n",
       "4      387643     NaN           4           11.0            0.681818   \n",
       "...       ...     ...         ...            ...                 ...   \n",
       "8122   404597     NaN          95            1.0            0.500000   \n",
       "8123   404598    MALE         225            1.0            1.000000   \n",
       "8124   404599     NaN         169            1.0            1.000000   \n",
       "8125   404603  FEMALE         112           13.0            0.653846   \n",
       "8126   404604  FEMALE          43            4.0            0.375000   \n",
       "\n",
       "      num_readings  num_feedback_opened  \n",
       "0            368.0                  0.0  \n",
       "1             33.0                 70.0  \n",
       "2             23.0                  3.0  \n",
       "3             10.0                  1.0  \n",
       "4              0.0                  0.0  \n",
       "...            ...                  ...  \n",
       "8122           8.0                  0.0  \n",
       "8123          15.0                  0.0  \n",
       "8124          38.0                  0.0  \n",
       "8125           0.0                  7.0  \n",
       "8126           0.0                  0.0  \n",
       "\n",
       "[8127 rows x 7 columns]"
      ]
     },
     "execution_count": 28,
     "metadata": {},
     "output_type": "execute_result"
    }
   ],
   "source": [
    "res5 = pd.merge(res4, df_feedback_count, on='user_id', how='left').fillna(value={'num_feedback_opened':0})\n",
    "res5"
   ]
  },
  {
   "cell_type": "code",
   "execution_count": 29,
   "id": "cb858a5c-8b89-4b82-b914-7836b5a0c0d3",
   "metadata": {},
   "outputs": [
    {
     "data": {
      "text/html": [
       "<div>\n",
       "<style scoped>\n",
       "    .dataframe tbody tr th:only-of-type {\n",
       "        vertical-align: middle;\n",
       "    }\n",
       "\n",
       "    .dataframe tbody tr th {\n",
       "        vertical-align: top;\n",
       "    }\n",
       "\n",
       "    .dataframe thead th {\n",
       "        text-align: right;\n",
       "    }\n",
       "</style>\n",
       "<table border=\"1\" class=\"dataframe\">\n",
       "  <thead>\n",
       "    <tr style=\"text-align: right;\">\n",
       "      <th></th>\n",
       "      <th>user_id</th>\n",
       "      <th>canton</th>\n",
       "    </tr>\n",
       "  </thead>\n",
       "  <tbody>\n",
       "    <tr>\n",
       "      <th>0</th>\n",
       "      <td>387604</td>\n",
       "      <td>NaN</td>\n",
       "    </tr>\n",
       "    <tr>\n",
       "      <th>1</th>\n",
       "      <td>387605</td>\n",
       "      <td>NaN</td>\n",
       "    </tr>\n",
       "    <tr>\n",
       "      <th>2</th>\n",
       "      <td>387608</td>\n",
       "      <td>NaN</td>\n",
       "    </tr>\n",
       "    <tr>\n",
       "      <th>3</th>\n",
       "      <td>387615</td>\n",
       "      <td>SG</td>\n",
       "    </tr>\n",
       "    <tr>\n",
       "      <th>4</th>\n",
       "      <td>387643</td>\n",
       "      <td>NaN</td>\n",
       "    </tr>\n",
       "    <tr>\n",
       "      <th>...</th>\n",
       "      <td>...</td>\n",
       "      <td>...</td>\n",
       "    </tr>\n",
       "    <tr>\n",
       "      <th>13690</th>\n",
       "      <td>404600</td>\n",
       "      <td>NaN</td>\n",
       "    </tr>\n",
       "    <tr>\n",
       "      <th>13691</th>\n",
       "      <td>404603</td>\n",
       "      <td>SO</td>\n",
       "    </tr>\n",
       "    <tr>\n",
       "      <th>13692</th>\n",
       "      <td>404604</td>\n",
       "      <td>ZH</td>\n",
       "    </tr>\n",
       "    <tr>\n",
       "      <th>13693</th>\n",
       "      <td>404605</td>\n",
       "      <td>SO</td>\n",
       "    </tr>\n",
       "    <tr>\n",
       "      <th>13694</th>\n",
       "      <td>404623</td>\n",
       "      <td>BL</td>\n",
       "    </tr>\n",
       "  </tbody>\n",
       "</table>\n",
       "<p>13695 rows × 2 columns</p>\n",
       "</div>"
      ],
      "text/plain": [
       "       user_id canton\n",
       "0       387604    NaN\n",
       "1       387605    NaN\n",
       "2       387608    NaN\n",
       "3       387615     SG\n",
       "4       387643    NaN\n",
       "...        ...    ...\n",
       "13690   404600    NaN\n",
       "13691   404603     SO\n",
       "13692   404604     ZH\n",
       "13693   404605     SO\n",
       "13694   404623     BL\n",
       "\n",
       "[13695 rows x 2 columns]"
      ]
     },
     "execution_count": 29,
     "metadata": {},
     "output_type": "execute_result"
    }
   ],
   "source": [
    "user_cantons = users[['user_id', 'canton']]\n",
    "user_cantons"
   ]
  },
  {
   "cell_type": "code",
   "execution_count": 30,
   "id": "c773e867-e401-41d1-b466-be90d8ffeac3",
   "metadata": {},
   "outputs": [
    {
     "data": {
      "text/html": [
       "<div>\n",
       "<style scoped>\n",
       "    .dataframe tbody tr th:only-of-type {\n",
       "        vertical-align: middle;\n",
       "    }\n",
       "\n",
       "    .dataframe tbody tr th {\n",
       "        vertical-align: top;\n",
       "    }\n",
       "\n",
       "    .dataframe thead th {\n",
       "        text-align: right;\n",
       "    }\n",
       "</style>\n",
       "<table border=\"1\" class=\"dataframe\">\n",
       "  <thead>\n",
       "    <tr style=\"text-align: right;\">\n",
       "      <th></th>\n",
       "      <th>user_id</th>\n",
       "      <th>gender</th>\n",
       "      <th>num_events</th>\n",
       "      <th>num_questions</th>\n",
       "      <th>percentage_correct</th>\n",
       "      <th>num_readings</th>\n",
       "      <th>num_feedback_opened</th>\n",
       "      <th>canton</th>\n",
       "    </tr>\n",
       "  </thead>\n",
       "  <tbody>\n",
       "    <tr>\n",
       "      <th>0</th>\n",
       "      <td>387604</td>\n",
       "      <td>NaN</td>\n",
       "      <td>2606</td>\n",
       "      <td>97.0</td>\n",
       "      <td>0.536082</td>\n",
       "      <td>368.0</td>\n",
       "      <td>0.0</td>\n",
       "      <td>NaN</td>\n",
       "    </tr>\n",
       "    <tr>\n",
       "      <th>1</th>\n",
       "      <td>387605</td>\n",
       "      <td>NaN</td>\n",
       "      <td>3331</td>\n",
       "      <td>510.0</td>\n",
       "      <td>0.648039</td>\n",
       "      <td>33.0</td>\n",
       "      <td>70.0</td>\n",
       "      <td>NaN</td>\n",
       "    </tr>\n",
       "    <tr>\n",
       "      <th>2</th>\n",
       "      <td>387608</td>\n",
       "      <td>NaN</td>\n",
       "      <td>866</td>\n",
       "      <td>151.0</td>\n",
       "      <td>0.821192</td>\n",
       "      <td>23.0</td>\n",
       "      <td>3.0</td>\n",
       "      <td>NaN</td>\n",
       "    </tr>\n",
       "    <tr>\n",
       "      <th>3</th>\n",
       "      <td>387615</td>\n",
       "      <td>MALE</td>\n",
       "      <td>492</td>\n",
       "      <td>111.0</td>\n",
       "      <td>0.720721</td>\n",
       "      <td>10.0</td>\n",
       "      <td>1.0</td>\n",
       "      <td>SG</td>\n",
       "    </tr>\n",
       "    <tr>\n",
       "      <th>4</th>\n",
       "      <td>387643</td>\n",
       "      <td>NaN</td>\n",
       "      <td>4</td>\n",
       "      <td>11.0</td>\n",
       "      <td>0.681818</td>\n",
       "      <td>0.0</td>\n",
       "      <td>0.0</td>\n",
       "      <td>NaN</td>\n",
       "    </tr>\n",
       "    <tr>\n",
       "      <th>...</th>\n",
       "      <td>...</td>\n",
       "      <td>...</td>\n",
       "      <td>...</td>\n",
       "      <td>...</td>\n",
       "      <td>...</td>\n",
       "      <td>...</td>\n",
       "      <td>...</td>\n",
       "      <td>...</td>\n",
       "    </tr>\n",
       "    <tr>\n",
       "      <th>8122</th>\n",
       "      <td>404597</td>\n",
       "      <td>NaN</td>\n",
       "      <td>95</td>\n",
       "      <td>1.0</td>\n",
       "      <td>0.500000</td>\n",
       "      <td>8.0</td>\n",
       "      <td>0.0</td>\n",
       "      <td>NaN</td>\n",
       "    </tr>\n",
       "    <tr>\n",
       "      <th>8123</th>\n",
       "      <td>404598</td>\n",
       "      <td>MALE</td>\n",
       "      <td>225</td>\n",
       "      <td>1.0</td>\n",
       "      <td>1.000000</td>\n",
       "      <td>15.0</td>\n",
       "      <td>0.0</td>\n",
       "      <td>SG</td>\n",
       "    </tr>\n",
       "    <tr>\n",
       "      <th>8124</th>\n",
       "      <td>404599</td>\n",
       "      <td>NaN</td>\n",
       "      <td>169</td>\n",
       "      <td>1.0</td>\n",
       "      <td>1.000000</td>\n",
       "      <td>38.0</td>\n",
       "      <td>0.0</td>\n",
       "      <td>NaN</td>\n",
       "    </tr>\n",
       "    <tr>\n",
       "      <th>8125</th>\n",
       "      <td>404603</td>\n",
       "      <td>FEMALE</td>\n",
       "      <td>112</td>\n",
       "      <td>13.0</td>\n",
       "      <td>0.653846</td>\n",
       "      <td>0.0</td>\n",
       "      <td>7.0</td>\n",
       "      <td>SO</td>\n",
       "    </tr>\n",
       "    <tr>\n",
       "      <th>8126</th>\n",
       "      <td>404604</td>\n",
       "      <td>FEMALE</td>\n",
       "      <td>43</td>\n",
       "      <td>4.0</td>\n",
       "      <td>0.375000</td>\n",
       "      <td>0.0</td>\n",
       "      <td>0.0</td>\n",
       "      <td>ZH</td>\n",
       "    </tr>\n",
       "  </tbody>\n",
       "</table>\n",
       "<p>8127 rows × 8 columns</p>\n",
       "</div>"
      ],
      "text/plain": [
       "      user_id  gender  num_events  num_questions  percentage_correct  \\\n",
       "0      387604     NaN        2606           97.0            0.536082   \n",
       "1      387605     NaN        3331          510.0            0.648039   \n",
       "2      387608     NaN         866          151.0            0.821192   \n",
       "3      387615    MALE         492          111.0            0.720721   \n",
       "4      387643     NaN           4           11.0            0.681818   \n",
       "...       ...     ...         ...            ...                 ...   \n",
       "8122   404597     NaN          95            1.0            0.500000   \n",
       "8123   404598    MALE         225            1.0            1.000000   \n",
       "8124   404599     NaN         169            1.0            1.000000   \n",
       "8125   404603  FEMALE         112           13.0            0.653846   \n",
       "8126   404604  FEMALE          43            4.0            0.375000   \n",
       "\n",
       "      num_readings  num_feedback_opened canton  \n",
       "0            368.0                  0.0    NaN  \n",
       "1             33.0                 70.0    NaN  \n",
       "2             23.0                  3.0    NaN  \n",
       "3             10.0                  1.0     SG  \n",
       "4              0.0                  0.0    NaN  \n",
       "...            ...                  ...    ...  \n",
       "8122           8.0                  0.0    NaN  \n",
       "8123          15.0                  0.0     SG  \n",
       "8124          38.0                  0.0    NaN  \n",
       "8125           0.0                  7.0     SO  \n",
       "8126           0.0                  0.0     ZH  \n",
       "\n",
       "[8127 rows x 8 columns]"
      ]
     },
     "execution_count": 30,
     "metadata": {},
     "output_type": "execute_result"
    }
   ],
   "source": [
    "res6 = pd.merge(res5, user_cantons, on='user_id', how='left')\n",
    "res6"
   ]
  },
  {
   "cell_type": "markdown",
   "id": "6ae3bd87-8ca4-47a2-afc5-604e6ca53621",
   "metadata": {
    "id": "6ae3bd87-8ca4-47a2-afc5-604e6ca53621"
   },
   "source": [
    "It is interesting to compute the number of times the feedback window has been opened: is there a pattern where users are more keen to give feedbacks, if it more probable for a user to give feedback based on his performance.\n",
    "\n",
    "The canton of the user can also be useful: do users from a given canton perform better at some classes than others cantons? And are there cantons where it is more probable for students to use the website?"
   ]
  },
  {
   "cell_type": "markdown",
   "id": "be9b49ce-5fb6-4b95-9b64-8a6648e42474",
   "metadata": {
    "id": "be9b49ce-5fb6-4b95-9b64-8a6648e42474"
   },
   "source": [
    "d) Perform a univariate analysis of your features (including descriptive statistics and visualization). What can you observe? Do the results confirm your hypotheses?"
   ]
  },
  {
   "cell_type": "code",
   "execution_count": 31,
   "id": "bf5136a1-4715-4bd6-a94a-1998ffb2dcc7",
   "metadata": {
    "id": "bf5136a1-4715-4bd6-a94a-1998ffb2dcc7"
   },
   "outputs": [
    {
     "data": {
      "text/html": [
       "<div>\n",
       "<style scoped>\n",
       "    .dataframe tbody tr th:only-of-type {\n",
       "        vertical-align: middle;\n",
       "    }\n",
       "\n",
       "    .dataframe tbody tr th {\n",
       "        vertical-align: top;\n",
       "    }\n",
       "\n",
       "    .dataframe thead th {\n",
       "        text-align: right;\n",
       "    }\n",
       "</style>\n",
       "<table border=\"1\" class=\"dataframe\">\n",
       "  <thead>\n",
       "    <tr style=\"text-align: right;\">\n",
       "      <th></th>\n",
       "      <th>Mean</th>\n",
       "      <th>Median</th>\n",
       "      <th>Mode</th>\n",
       "      <th>Variance</th>\n",
       "      <th>Std</th>\n",
       "      <th>Minimum</th>\n",
       "      <th>25%</th>\n",
       "      <th>75%</th>\n",
       "      <th>Maximum</th>\n",
       "    </tr>\n",
       "  </thead>\n",
       "  <tbody>\n",
       "    <tr>\n",
       "      <th>num_feedback_opened</th>\n",
       "      <td>10.664698</td>\n",
       "      <td>1.0</td>\n",
       "      <td>0.0</td>\n",
       "      <td>835.642833</td>\n",
       "      <td>28.907487</td>\n",
       "      <td>0.0</td>\n",
       "      <td>0.0</td>\n",
       "      <td>8.0</td>\n",
       "      <td>412.0</td>\n",
       "    </tr>\n",
       "  </tbody>\n",
       "</table>\n",
       "</div>"
      ],
      "text/plain": [
       "                          Mean  Median  Mode    Variance        Std  Minimum  \\\n",
       "num_feedback_opened  10.664698     1.0   0.0  835.642833  28.907487      0.0   \n",
       "\n",
       "                     25%  75%  Maximum  \n",
       "num_feedback_opened  0.0  8.0    412.0  "
      ]
     },
     "metadata": {},
     "output_type": "display_data"
    }
   ],
   "source": [
    "# Your code for univariate analysis goes here\n",
    "feature_list = [res6['num_feedback_opened']]\n",
    "data = {'Mean': np.mean(feature_list,1),\n",
    "        'Median':np.median(feature_list,1),\n",
    "        'Mode': (stats.mode(feature_list,axis=1)[0])[:,0],\n",
    "        'Variance':np.var(feature_list,1),\n",
    "        'Std':np.std(feature_list,1),\n",
    "        'Minimum': np.min(feature_list,1),\n",
    "        '25%': np.percentile(feature_list, 25, axis=1),\n",
    "        '75%': np.percentile(feature_list, 75, axis=1),\n",
    "        'Maximum': np.max(feature_list,1)}\n",
    "\n",
    "desc_stats_df = pd.DataFrame(data, index =['num_feedback_opened'])\n",
    "display(desc_stats_df)"
   ]
  },
  {
   "cell_type": "code",
   "execution_count": 32,
   "id": "8f54b5bd-602b-4929-86bf-d1ab5a630a5d",
   "metadata": {},
   "outputs": [
    {
     "name": "stdout",
     "output_type": "stream",
     "text": [
      "0.0009298504875161832 0.9340387599191359\n"
     ]
    }
   ],
   "source": [
    "res6_notna = res6.loc[res6['percentage_correct'].notna()]\n",
    "r, p = stats.pearsonr(res6_notna['percentage_correct'], res6_notna['num_feedback_opened'])\n",
    "print(r, p)"
   ]
  },
  {
   "cell_type": "code",
   "execution_count": 33,
   "id": "7354bf31-b9c3-4292-adce-93d08f4d3962",
   "metadata": {},
   "outputs": [
    {
     "data": {
      "image/png": "[encoded data removed]",
      "text/plain": [
       "<Figure size 432x288 with 1 Axes>"
      ]
     },
     "metadata": {
      "needs_background": "light"
     },
     "output_type": "display_data"
    }
   ],
   "source": [
    "sns.histplot(data=res6, x = 'num_feedback_opened', kde=True) \n",
    "plt.show()"
   ]
  },
  {
   "cell_type": "code",
   "execution_count": 34,
   "id": "65a1f20a-1e06-4af6-979c-b8cd61e43e96",
   "metadata": {},
   "outputs": [
    {
     "data": {
      "text/html": [
       "<div>\n",
       "<style scoped>\n",
       "    .dataframe tbody tr th:only-of-type {\n",
       "        vertical-align: middle;\n",
       "    }\n",
       "\n",
       "    .dataframe tbody tr th {\n",
       "        vertical-align: top;\n",
       "    }\n",
       "\n",
       "    .dataframe thead th {\n",
       "        text-align: right;\n",
       "    }\n",
       "</style>\n",
       "<table border=\"1\" class=\"dataframe\">\n",
       "  <thead>\n",
       "    <tr style=\"text-align: right;\">\n",
       "      <th></th>\n",
       "      <th>Canton</th>\n",
       "      <th>Count</th>\n",
       "      <th>Count %</th>\n",
       "    </tr>\n",
       "  </thead>\n",
       "  <tbody>\n",
       "    <tr>\n",
       "      <th>0</th>\n",
       "      <td>ZH</td>\n",
       "      <td>2086</td>\n",
       "      <td>0.256675</td>\n",
       "    </tr>\n",
       "    <tr>\n",
       "      <th>1</th>\n",
       "      <td>SG</td>\n",
       "      <td>1842</td>\n",
       "      <td>0.226652</td>\n",
       "    </tr>\n",
       "    <tr>\n",
       "      <th>2</th>\n",
       "      <td>NaN</td>\n",
       "      <td>1090</td>\n",
       "      <td>0.134121</td>\n",
       "    </tr>\n",
       "    <tr>\n",
       "      <th>3</th>\n",
       "      <td>AG</td>\n",
       "      <td>675</td>\n",
       "      <td>0.083056</td>\n",
       "    </tr>\n",
       "    <tr>\n",
       "      <th>4</th>\n",
       "      <td>SO</td>\n",
       "      <td>561</td>\n",
       "      <td>0.069029</td>\n",
       "    </tr>\n",
       "    <tr>\n",
       "      <th>5</th>\n",
       "      <td>BS</td>\n",
       "      <td>536</td>\n",
       "      <td>0.065953</td>\n",
       "    </tr>\n",
       "    <tr>\n",
       "      <th>6</th>\n",
       "      <td>BL</td>\n",
       "      <td>419</td>\n",
       "      <td>0.051557</td>\n",
       "    </tr>\n",
       "    <tr>\n",
       "      <th>7</th>\n",
       "      <td>BE</td>\n",
       "      <td>405</td>\n",
       "      <td>0.049834</td>\n",
       "    </tr>\n",
       "    <tr>\n",
       "      <th>8</th>\n",
       "      <td>SH</td>\n",
       "      <td>166</td>\n",
       "      <td>0.020426</td>\n",
       "    </tr>\n",
       "    <tr>\n",
       "      <th>9</th>\n",
       "      <td>AR</td>\n",
       "      <td>148</td>\n",
       "      <td>0.018211</td>\n",
       "    </tr>\n",
       "    <tr>\n",
       "      <th>10</th>\n",
       "      <td>Andere</td>\n",
       "      <td>80</td>\n",
       "      <td>0.009844</td>\n",
       "    </tr>\n",
       "    <tr>\n",
       "      <th>11</th>\n",
       "      <td>FL</td>\n",
       "      <td>65</td>\n",
       "      <td>0.007998</td>\n",
       "    </tr>\n",
       "    <tr>\n",
       "      <th>12</th>\n",
       "      <td>LU</td>\n",
       "      <td>28</td>\n",
       "      <td>0.003445</td>\n",
       "    </tr>\n",
       "    <tr>\n",
       "      <th>13</th>\n",
       "      <td>FR</td>\n",
       "      <td>26</td>\n",
       "      <td>0.003199</td>\n",
       "    </tr>\n",
       "  </tbody>\n",
       "</table>\n",
       "</div>"
      ],
      "text/plain": [
       "    Canton  Count   Count %\n",
       "0       ZH   2086  0.256675\n",
       "1       SG   1842  0.226652\n",
       "2      NaN   1090  0.134121\n",
       "3       AG    675  0.083056\n",
       "4       SO    561  0.069029\n",
       "5       BS    536  0.065953\n",
       "6       BL    419  0.051557\n",
       "7       BE    405  0.049834\n",
       "8       SH    166  0.020426\n",
       "9       AR    148  0.018211\n",
       "10  Andere     80  0.009844\n",
       "11      FL     65  0.007998\n",
       "12      LU     28  0.003445\n",
       "13      FR     26  0.003199"
      ]
     },
     "execution_count": 34,
     "metadata": {},
     "output_type": "execute_result"
    }
   ],
   "source": [
    "canton = res6.canton.value_counts(dropna=False)\n",
    "df_canton = pd.DataFrame({\"Canton\": canton.index, \"Count\": canton.tolist(), \"Count %\": canton.tolist()/np.sum(canton.tolist()) })\n",
    "df_canton"
   ]
  },
  {
   "cell_type": "code",
   "execution_count": 35,
   "id": "5de46f68-7471-4274-8e63-f0bfd717cfaf",
   "metadata": {},
   "outputs": [
    {
     "data": {
      "text/plain": [
       "[Text(0.5, 0, 'Canton'), Text(0, 0.5, 'Count')]"
      ]
     },
     "execution_count": 35,
     "metadata": {},
     "output_type": "execute_result"
    },
    {
     "data": {
      "image/png": "[encoded data removed]",
      "text/plain": [
       "<Figure size 432x288 with 1 Axes>"
      ]
     },
     "metadata": {
      "needs_background": "light"
     },
     "output_type": "display_data"
    }
   ],
   "source": [
    "ax = sns.countplot(data=res6, x= 'canton')\n",
    "ax.set(xlabel='Canton', ylabel='Count')"
   ]
  },
  {
   "cell_type": "markdown",
   "id": "791e6635-e2ef-4790-b585-a8907123bed8",
   "metadata": {
    "id": "791e6635-e2ef-4790-b585-a8907123bed8"
   },
   "source": [
    "The number of times students opened the feedback window also follows the Poisson distribution, for the same reasons as num_events, num_questions and num_readings. Around 50% or more users give their feedback once or don't give any feedback. There is also no correlation between the student grades and their willingness of giving feedback.\n",
    "\n",
    "For the cantons, we see that almost 40-50% of students are from St Gallen and Zürich. There is generally more students in those areas, so it should be expected. Almost all of the students come from Swiss German cantons, which is normal as the website is in german only, so students from Geneva for example may use another website/app."
   ]
  },
  {
   "cell_type": "markdown",
   "id": "1596debf-793b-4d94-a0eb-4fc42a1f962d",
   "metadata": {
    "id": "1596debf-793b-4d94-a0eb-4fc42a1f962d"
   },
   "source": [
    "e) Perform a multivariate analysis for two pairs of features of your choice. Please provide a metric and a visualization for both pairs. Please discuss: why did you choose these two pairs? What was your hypothesis? Do the results confirm your hypothesis?"
   ]
  },
  {
   "cell_type": "code",
   "execution_count": 36,
   "id": "9b5947ca-1c39-4aec-8fa9-22dba757ef27",
   "metadata": {
    "id": "9b5947ca-1c39-4aec-8fa9-22dba757ef27"
   },
   "outputs": [
    {
     "data": {
      "image/png": "[encoded data removed]",
      "text/plain": [
       "<Figure size 432x288 with 1 Axes>"
      ]
     },
     "metadata": {
      "needs_background": "light"
     },
     "output_type": "display_data"
    }
   ],
   "source": [
    "# Your code for multivariate analysis goes here\n",
    "sns.scatterplot(data= res6, y = 'num_questions', x ='num_events')\n",
    "plt.xlabel(\"Number of events\")\n",
    "plt.ylabel(\"Number of questions\")\n",
    "plt.show()"
   ]
  },
  {
   "cell_type": "code",
   "execution_count": 37,
   "id": "72bb8c2d-8f84-4993-a8f0-80123ed0b39a",
   "metadata": {},
   "outputs": [
    {
     "name": "stdout",
     "output_type": "stream",
     "text": [
      "0.8993249452972287 0.0\n"
     ]
    }
   ],
   "source": [
    "r, p = stats.pearsonr(res6['num_events'], res6['num_questions'])\n",
    "print(r, p)"
   ]
  },
  {
   "cell_type": "code",
   "execution_count": 38,
   "id": "62780b63-c188-474c-8cd6-6f64868545ac",
   "metadata": {},
   "outputs": [
    {
     "data": {
      "image/png": "[encoded data removed]",
      "text/plain": [
       "<Figure size 432x288 with 1 Axes>"
      ]
     },
     "metadata": {
      "needs_background": "light"
     },
     "output_type": "display_data"
    }
   ],
   "source": [
    "sns.scatterplot(data= res6, y = 'num_readings', x ='num_events')\n",
    "plt.xlabel(\"Number of events\")\n",
    "plt.ylabel(\"Number of readings\")\n",
    "plt.show()"
   ]
  },
  {
   "cell_type": "code",
   "execution_count": 39,
   "id": "3cc6e3c4-10e9-4380-a46f-a032442ba509",
   "metadata": {},
   "outputs": [
    {
     "name": "stdout",
     "output_type": "stream",
     "text": [
      "0.546884889541034 0.0\n"
     ]
    }
   ],
   "source": [
    "r, p = stats.pearsonr(res6['num_events'], res6['num_readings'])\n",
    "print(r, p)"
   ]
  },
  {
   "cell_type": "code",
   "execution_count": 40,
   "id": "3715bc72-734b-493e-a30d-cb04d745cb48",
   "metadata": {},
   "outputs": [
    {
     "data": {
      "text/plain": [
       "<seaborn.axisgrid.FacetGrid at 0x7fa0210f6850>"
      ]
     },
     "execution_count": 40,
     "metadata": {},
     "output_type": "execute_result"
    },
    {
     "data": {
      "image/png": "[encoded data removed]",
      "text/plain": [
       "<Figure size 360x360 with 1 Axes>"
      ]
     },
     "metadata": {
      "needs_background": "light"
     },
     "output_type": "display_data"
    }
   ],
   "source": [
    "g = sns.catplot(data=res6, x='canton', y= 'percentage_correct')\n",
    "g.set_axis_labels(\"Canton\", \"Correct answers percentage\")"
   ]
  },
  {
   "cell_type": "code",
   "execution_count": 41,
   "id": "2bdfbc9f-ad02-43bb-87ee-7333da1e1267",
   "metadata": {},
   "outputs": [
    {
     "data": {
      "text/html": [
       "<div>\n",
       "<style scoped>\n",
       "    .dataframe tbody tr th:only-of-type {\n",
       "        vertical-align: middle;\n",
       "    }\n",
       "\n",
       "    .dataframe tbody tr th {\n",
       "        vertical-align: top;\n",
       "    }\n",
       "\n",
       "    .dataframe thead th {\n",
       "        text-align: right;\n",
       "    }\n",
       "</style>\n",
       "<table border=\"1\" class=\"dataframe\">\n",
       "  <thead>\n",
       "    <tr style=\"text-align: right;\">\n",
       "      <th></th>\n",
       "      <th>percentage_correct</th>\n",
       "    </tr>\n",
       "    <tr>\n",
       "      <th>canton</th>\n",
       "      <th></th>\n",
       "    </tr>\n",
       "  </thead>\n",
       "  <tbody>\n",
       "    <tr>\n",
       "      <th>AG</th>\n",
       "      <td>0.655519</td>\n",
       "    </tr>\n",
       "    <tr>\n",
       "      <th>AR</th>\n",
       "      <td>0.667787</td>\n",
       "    </tr>\n",
       "    <tr>\n",
       "      <th>Andere</th>\n",
       "      <td>0.631586</td>\n",
       "    </tr>\n",
       "    <tr>\n",
       "      <th>BE</th>\n",
       "      <td>0.604271</td>\n",
       "    </tr>\n",
       "    <tr>\n",
       "      <th>BL</th>\n",
       "      <td>0.642598</td>\n",
       "    </tr>\n",
       "    <tr>\n",
       "      <th>BS</th>\n",
       "      <td>0.622374</td>\n",
       "    </tr>\n",
       "    <tr>\n",
       "      <th>FL</th>\n",
       "      <td>0.598165</td>\n",
       "    </tr>\n",
       "    <tr>\n",
       "      <th>FR</th>\n",
       "      <td>0.632513</td>\n",
       "    </tr>\n",
       "    <tr>\n",
       "      <th>LU</th>\n",
       "      <td>0.598068</td>\n",
       "    </tr>\n",
       "    <tr>\n",
       "      <th>SG</th>\n",
       "      <td>0.655131</td>\n",
       "    </tr>\n",
       "    <tr>\n",
       "      <th>SH</th>\n",
       "      <td>0.657067</td>\n",
       "    </tr>\n",
       "    <tr>\n",
       "      <th>SO</th>\n",
       "      <td>0.656728</td>\n",
       "    </tr>\n",
       "    <tr>\n",
       "      <th>ZH</th>\n",
       "      <td>0.666018</td>\n",
       "    </tr>\n",
       "  </tbody>\n",
       "</table>\n",
       "</div>"
      ],
      "text/plain": [
       "        percentage_correct\n",
       "canton                    \n",
       "AG                0.655519\n",
       "AR                0.667787\n",
       "Andere            0.631586\n",
       "BE                0.604271\n",
       "BL                0.642598\n",
       "BS                0.622374\n",
       "FL                0.598165\n",
       "FR                0.632513\n",
       "LU                0.598068\n",
       "SG                0.655131\n",
       "SH                0.657067\n",
       "SO                0.656728\n",
       "ZH                0.666018"
      ]
     },
     "execution_count": 41,
     "metadata": {},
     "output_type": "execute_result"
    }
   ],
   "source": [
    "res6[['percentage_correct', 'canton']].groupby(by='canton').mean()"
   ]
  },
  {
   "cell_type": "code",
   "execution_count": 42,
   "id": "c32ec65c-6249-4465-9892-1e844dc8ddfb",
   "metadata": {},
   "outputs": [
    {
     "data": {
      "image/png": "[encoded data removed]",
      "text/plain": [
       "<Figure size 432x288 with 1 Axes>"
      ]
     },
     "metadata": {
      "needs_background": "light"
     },
     "output_type": "display_data"
    }
   ],
   "source": [
    "g = sns.lineplot(data=res6, x='canton', y= 'percentage_correct')"
   ]
  },
  {
   "cell_type": "markdown",
   "id": "9c9e9e56-f589-49d4-8cd4-07855bc6c5c0",
   "metadata": {
    "id": "9c9e9e56-f589-49d4-8cd4-07855bc6c5c0"
   },
   "source": [
    "#### H1: Users who interact a lot with the website answer a lot of questions.\n",
    "This hypothesis might seem obvious, since it is the main purpose of the website: for students to practice on topics by answering questions, but it is still interesting to see the dependency between the two values, and to see what the students actually use the website for, because it could be different than what we expect. We can see that the number of questions answered increases with the number of total events with the website, so we can conclude that those values are correlated. As a comparison, we can also see that even though users interact a lot with the website and answer the questions, they don't always read the theory pages, as the number does not increase with the number of events, which does not seem so obvious at first glance.\n",
    "\n",
    "#### H2: Performance of students depends on their canton\n",
    "It is interesting to see if the students perform better depending on where they come from, for example do students get better grades in german classes if they come from a Swiss German canton, and by how much. While the difference is not very big, we can observe that there are cantons where students perform better than others. We could think maybe it is because the cantons Bern and Lucern are on the border to Swiss Romandy cantons, so students focus less on german language than the rest, but we do not have enough examples from students in Swiss Romandy (we only have Friburg), so this reasoning might be unrelated. We could also think that the level of education is higher and better in those cantons than in the others, Zürich for example being a big hub for education."
   ]
  },
  {
   "cell_type": "markdown",
   "id": "62ef2063-f2b2-4a0b-92a6-1e03e9e6e548",
   "metadata": {
    "id": "62ef2063-f2b2-4a0b-92a6-1e03e9e6e548"
   },
   "source": [
    "# Task 3: Time-Series Analysis\n",
    "\n",
    "In the last task, you will perform a time-series analysis."
   ]
  },
  {
   "cell_type": "markdown",
   "id": "1a986033-693c-4db0-8b27-c638b4bf6248",
   "metadata": {
    "id": "1a986033-693c-4db0-8b27-c638b4bf6248"
   },
   "source": [
    "\n",
    "#### a) Build a data frame containing one row per user per week:\n",
    "\n",
    "``[user_id, week, num_events, num_questions, percentage_correct, num_reading]``\n",
    "\n",
    "\n",
    "The features are defined as follows:\n",
    "\n",
    "- **num_questions**: total number of questions the student answered **per week**(hint: action event = submit answer).\n",
    "\n",
    "- **num_events**: total number of events of the student per week.\n",
    "\n",
    "- **percentage_correct**: number of correct answers/total number of answers  **per week** (hint: evaluation = correct). If desired, you may assign a weight of 0.5 to partially correct answers.\n",
    "\n",
    "- **num_reading**: total number of theory reading events **per week** (hint: action event = go to theory).\n",
    "\n",
    "Where week 0 is the first week the specific user solved a task in the platform, i.e., the user's earliest entry in the transactions table.\n",
    "\n",
    "Hint: You may extract the week of the year (dt.week) from the timestamps. "
   ]
  },
  {
   "cell_type": "markdown",
   "id": "549820bd-d886-433f-8055-52f40e3381ad",
   "metadata": {
    "id": "549820bd-d886-433f-8055-52f40e3381ad"
   },
   "source": [
    "You can limit the number of weeks to 13, i.e. for each user we just look at the first 13 weeks of data.\n",
    "Yoy may change and justify your choice for the number of weeks."
   ]
  },
  {
   "cell_type": "code",
   "execution_count": 43,
   "id": "35409dea-f3b2-42b7-af26-9971a84e691a",
   "metadata": {},
   "outputs": [
    {
     "data": {
      "text/html": [
       "<div>\n",
       "<style scoped>\n",
       "    .dataframe tbody tr th:only-of-type {\n",
       "        vertical-align: middle;\n",
       "    }\n",
       "\n",
       "    .dataframe tbody tr th {\n",
       "        vertical-align: top;\n",
       "    }\n",
       "\n",
       "    .dataframe thead th {\n",
       "        text-align: right;\n",
       "    }\n",
       "</style>\n",
       "<table border=\"1\" class=\"dataframe\">\n",
       "  <thead>\n",
       "    <tr style=\"text-align: right;\">\n",
       "      <th></th>\n",
       "      <th>user_id</th>\n",
       "      <th>week</th>\n",
       "    </tr>\n",
       "  </thead>\n",
       "  <tbody>\n",
       "    <tr>\n",
       "      <th>0</th>\n",
       "      <td>387604</td>\n",
       "      <td>0</td>\n",
       "    </tr>\n",
       "    <tr>\n",
       "      <th>1</th>\n",
       "      <td>387604</td>\n",
       "      <td>1</td>\n",
       "    </tr>\n",
       "    <tr>\n",
       "      <th>2</th>\n",
       "      <td>387604</td>\n",
       "      <td>2</td>\n",
       "    </tr>\n",
       "    <tr>\n",
       "      <th>3</th>\n",
       "      <td>387604</td>\n",
       "      <td>3</td>\n",
       "    </tr>\n",
       "    <tr>\n",
       "      <th>4</th>\n",
       "      <td>387604</td>\n",
       "      <td>4</td>\n",
       "    </tr>\n",
       "    <tr>\n",
       "      <th>...</th>\n",
       "      <td>...</td>\n",
       "      <td>...</td>\n",
       "    </tr>\n",
       "    <tr>\n",
       "      <th>105646</th>\n",
       "      <td>404604</td>\n",
       "      <td>8</td>\n",
       "    </tr>\n",
       "    <tr>\n",
       "      <th>105647</th>\n",
       "      <td>404604</td>\n",
       "      <td>9</td>\n",
       "    </tr>\n",
       "    <tr>\n",
       "      <th>105648</th>\n",
       "      <td>404604</td>\n",
       "      <td>10</td>\n",
       "    </tr>\n",
       "    <tr>\n",
       "      <th>105649</th>\n",
       "      <td>404604</td>\n",
       "      <td>11</td>\n",
       "    </tr>\n",
       "    <tr>\n",
       "      <th>105650</th>\n",
       "      <td>404604</td>\n",
       "      <td>12</td>\n",
       "    </tr>\n",
       "  </tbody>\n",
       "</table>\n",
       "<p>105651 rows × 2 columns</p>\n",
       "</div>"
      ],
      "text/plain": [
       "        user_id  week\n",
       "0        387604     0\n",
       "1        387604     1\n",
       "2        387604     2\n",
       "3        387604     3\n",
       "4        387604     4\n",
       "...         ...   ...\n",
       "105646   404604     8\n",
       "105647   404604     9\n",
       "105648   404604    10\n",
       "105649   404604    11\n",
       "105650   404604    12\n",
       "\n",
       "[105651 rows x 2 columns]"
      ]
     },
     "execution_count": 43,
     "metadata": {},
     "output_type": "execute_result"
    }
   ],
   "source": [
    "# We only take users that we know are active, and have answered at least one question for the same reasons above\n",
    "users_week = pd.merge(res6.user_id, pd.DataFrame({'week':list(range(0, 13))}), how=\"cross\")\n",
    "users_week"
   ]
  },
  {
   "cell_type": "code",
   "execution_count": 44,
   "id": "a92e54ac-3990-4d97-bd57-75c81534b36d",
   "metadata": {
    "id": "a92e54ac-3990-4d97-bd57-75c81534b36d"
   },
   "outputs": [],
   "source": [
    "# Your code for building the dataframe goes here\n",
    "transactions_copy = transactions[transactions['evaluation'].notna()].copy()\n",
    "\n",
    "transactions_copy['date'] = pd.to_datetime(transactions_copy['commit_time'], unit='ms')"
   ]
  },
  {
   "cell_type": "code",
   "execution_count": 45,
   "id": "1dd9182d-4bd4-458a-bd36-77e05f2dc5fd",
   "metadata": {},
   "outputs": [],
   "source": [
    "min_date = transactions_copy.groupby(by='user_id').date.min()\n",
    "df_timeframe = pd.DataFrame({'user_id': min_date.index, 'min_date': min_date.tolist(), 'max_date': (min_date + pd.DateOffset(weeks=13)).tolist()})"
   ]
  },
  {
   "cell_type": "code",
   "execution_count": 46,
   "id": "bf58cee0-eb3f-4d3a-9fa7-08c37431a243",
   "metadata": {},
   "outputs": [],
   "source": [
    "transactions_time = pd.merge(transactions_copy, df_timeframe, on='user_id', how='left')"
   ]
  },
  {
   "cell_type": "code",
   "execution_count": 47,
   "id": "bd6c1afa-aa33-4cf2-abb0-b7004e8fae6a",
   "metadata": {},
   "outputs": [],
   "source": [
    "transactions_week = transactions_time[transactions_time['date'] < transactions_time['max_date']].copy()"
   ]
  },
  {
   "cell_type": "code",
   "execution_count": 48,
   "id": "b9791a25-b6c9-4ced-944f-582fbd0c3de5",
   "metadata": {},
   "outputs": [],
   "source": [
    "transactions_week['week'] = (transactions_week['date'] - transactions_week['min_date']).apply(lambda x: int(pd.Timedelta(x).days / 7))"
   ]
  },
  {
   "cell_type": "code",
   "execution_count": 49,
   "id": "16d60e29-95c8-431b-b51d-6969f81d9814",
   "metadata": {},
   "outputs": [],
   "source": [
    "events_copy = events.copy()\n",
    "\n",
    "events_copy['date'] = pd.to_datetime(events_copy['timestamp'], unit='ms')"
   ]
  },
  {
   "cell_type": "code",
   "execution_count": 50,
   "id": "86372f09-5400-4487-849b-2436ca35a9aa",
   "metadata": {},
   "outputs": [],
   "source": [
    "events_time = pd.merge(events_copy, df_timeframe, on='user_id', how='inner')"
   ]
  },
  {
   "cell_type": "code",
   "execution_count": 51,
   "id": "a6a3e749-de1b-4aa3-a2f0-7981c5f19ecc",
   "metadata": {},
   "outputs": [],
   "source": [
    "events_week = events_time[(events_time['date'] < events_time['max_date']) & (events_time['date'] >= events_time['min_date'])].copy()\n",
    "events_week['week'] = (events_week['date'] - events_week['min_date']).apply(lambda x: int(pd.Timedelta(x).days / 7))"
   ]
  },
  {
   "cell_type": "code",
   "execution_count": 52,
   "id": "0de8e898-435c-4be7-b404-d0245a6bb6de",
   "metadata": {},
   "outputs": [],
   "source": [
    "nb_events_week = events_week.groupby(by=['user_id', 'week']).size()\n",
    "\n",
    "df_nb_events_week = pd.DataFrame({'user_id': nb_events_week.index.get_level_values('user_id'), \n",
    "                                  'week': nb_events_week.index.get_level_values('week'), \n",
    "                                  'num_events': nb_events_week.tolist()})\n",
    "res_week_1 = pd.merge(users_week, df_nb_events_week, on=['user_id', 'week'], how='left').fillna(value={'num_events':0})\n",
    "res_week_1['num_events'] = res_week_1['num_events'].astype(np.int64)"
   ]
  },
  {
   "cell_type": "code",
   "execution_count": 53,
   "id": "0164642f-2a62-41ce-834a-ed58088d10ea",
   "metadata": {},
   "outputs": [],
   "source": [
    "questions_count_week = transactions_week.groupby(by=['user_id', 'week']).size()\n",
    "df_questions_count_week = pd.DataFrame({'user_id'  : questions_count_week.index.get_level_values('user_id'), \n",
    "                                        'week'     : questions_count_week.index.get_level_values('week'), \n",
    "                                        'num_questions': questions_count_week.tolist()})"
   ]
  },
  {
   "cell_type": "code",
   "execution_count": 54,
   "id": "253c2dde-f8e4-4a52-a0d7-cef725b9ca23",
   "metadata": {},
   "outputs": [],
   "source": [
    "correct_count_week = transactions_week.loc[transactions_week['evaluation'] == 'CORRECT'].groupby(by=['user_id', 'week']).size()\n",
    "partial_count_week = transactions_week.loc[transactions_week['evaluation'] == 'PARTIAL'].groupby(by=['user_id', 'week']).size() * 1/2\n",
    "eval_count_week = correct_count_week.add(partial_count_week, fill_value=0)\n",
    "df_eval_count_week = pd.DataFrame({'user_id': eval_count_week.index.get_level_values('user_id'), \n",
    "                                   'week': eval_count_week.index.get_level_values('week'), \n",
    "                                   'correct': eval_count_week.tolist()})"
   ]
  },
  {
   "cell_type": "code",
   "execution_count": 55,
   "id": "a75c64be-540d-4e62-9083-1bcaea900391",
   "metadata": {},
   "outputs": [],
   "source": [
    "df_questions_correct_week = pd.merge(df_questions_count_week, df_eval_count_week, on=['user_id', 'week'], how='left').fillna(\n",
    "    value={'correct':0})\n",
    "df_questions_correct_week['percentage_correct'] = df_questions_correct_week['correct'] / df_questions_correct_week['num_questions']"
   ]
  },
  {
   "cell_type": "code",
   "execution_count": 56,
   "id": "5422de24-f6ad-4434-90e7-81214f0d28f0",
   "metadata": {},
   "outputs": [],
   "source": [
    "res_week_2 = pd.merge(res_week_1, df_questions_correct_week[['user_id', 'week', 'num_questions', 'percentage_correct']], on=['user_id', 'week'], how='left').fillna(\n",
    "    value={'num_questions':0})"
   ]
  },
  {
   "cell_type": "code",
   "execution_count": 57,
   "id": "f0249fba-4c62-4365-9fe1-d07066af3b26",
   "metadata": {},
   "outputs": [],
   "source": [
    "readings_count_week = events_week.loc[events_week['action']=='GO_TO_THEORY'].groupby(by=['user_id', 'week']).size()\n",
    "df_readings_count_week = pd.DataFrame({'user_id': readings_count_week.index.get_level_values('user_id'), \n",
    "                                       'week': readings_count_week.index.get_level_values('week'), \n",
    "                                       'num_readings': readings_count_week.tolist()})"
   ]
  },
  {
   "cell_type": "code",
   "execution_count": 58,
   "id": "c1cf6590-8f87-4082-8b71-c1c04268b764",
   "metadata": {},
   "outputs": [
    {
     "data": {
      "text/html": [
       "<div>\n",
       "<style scoped>\n",
       "    .dataframe tbody tr th:only-of-type {\n",
       "        vertical-align: middle;\n",
       "    }\n",
       "\n",
       "    .dataframe tbody tr th {\n",
       "        vertical-align: top;\n",
       "    }\n",
       "\n",
       "    .dataframe thead th {\n",
       "        text-align: right;\n",
       "    }\n",
       "</style>\n",
       "<table border=\"1\" class=\"dataframe\">\n",
       "  <thead>\n",
       "    <tr style=\"text-align: right;\">\n",
       "      <th></th>\n",
       "      <th>user_id</th>\n",
       "      <th>week</th>\n",
       "      <th>num_events</th>\n",
       "      <th>num_questions</th>\n",
       "      <th>percentage_correct</th>\n",
       "      <th>num_readings</th>\n",
       "    </tr>\n",
       "  </thead>\n",
       "  <tbody>\n",
       "    <tr>\n",
       "      <th>0</th>\n",
       "      <td>387604</td>\n",
       "      <td>0</td>\n",
       "      <td>179</td>\n",
       "      <td>1.0</td>\n",
       "      <td>0.000</td>\n",
       "      <td>59.0</td>\n",
       "    </tr>\n",
       "    <tr>\n",
       "      <th>1</th>\n",
       "      <td>387604</td>\n",
       "      <td>1</td>\n",
       "      <td>155</td>\n",
       "      <td>0.0</td>\n",
       "      <td>NaN</td>\n",
       "      <td>59.0</td>\n",
       "    </tr>\n",
       "    <tr>\n",
       "      <th>2</th>\n",
       "      <td>387604</td>\n",
       "      <td>2</td>\n",
       "      <td>159</td>\n",
       "      <td>0.0</td>\n",
       "      <td>NaN</td>\n",
       "      <td>33.0</td>\n",
       "    </tr>\n",
       "    <tr>\n",
       "      <th>3</th>\n",
       "      <td>387604</td>\n",
       "      <td>3</td>\n",
       "      <td>29</td>\n",
       "      <td>4.0</td>\n",
       "      <td>0.125</td>\n",
       "      <td>0.0</td>\n",
       "    </tr>\n",
       "    <tr>\n",
       "      <th>4</th>\n",
       "      <td>387604</td>\n",
       "      <td>4</td>\n",
       "      <td>23</td>\n",
       "      <td>2.0</td>\n",
       "      <td>0.750</td>\n",
       "      <td>0.0</td>\n",
       "    </tr>\n",
       "    <tr>\n",
       "      <th>...</th>\n",
       "      <td>...</td>\n",
       "      <td>...</td>\n",
       "      <td>...</td>\n",
       "      <td>...</td>\n",
       "      <td>...</td>\n",
       "      <td>...</td>\n",
       "    </tr>\n",
       "    <tr>\n",
       "      <th>105646</th>\n",
       "      <td>404604</td>\n",
       "      <td>8</td>\n",
       "      <td>0</td>\n",
       "      <td>0.0</td>\n",
       "      <td>NaN</td>\n",
       "      <td>0.0</td>\n",
       "    </tr>\n",
       "    <tr>\n",
       "      <th>105647</th>\n",
       "      <td>404604</td>\n",
       "      <td>9</td>\n",
       "      <td>0</td>\n",
       "      <td>0.0</td>\n",
       "      <td>NaN</td>\n",
       "      <td>0.0</td>\n",
       "    </tr>\n",
       "    <tr>\n",
       "      <th>105648</th>\n",
       "      <td>404604</td>\n",
       "      <td>10</td>\n",
       "      <td>0</td>\n",
       "      <td>0.0</td>\n",
       "      <td>NaN</td>\n",
       "      <td>0.0</td>\n",
       "    </tr>\n",
       "    <tr>\n",
       "      <th>105649</th>\n",
       "      <td>404604</td>\n",
       "      <td>11</td>\n",
       "      <td>0</td>\n",
       "      <td>0.0</td>\n",
       "      <td>NaN</td>\n",
       "      <td>0.0</td>\n",
       "    </tr>\n",
       "    <tr>\n",
       "      <th>105650</th>\n",
       "      <td>404604</td>\n",
       "      <td>12</td>\n",
       "      <td>0</td>\n",
       "      <td>0.0</td>\n",
       "      <td>NaN</td>\n",
       "      <td>0.0</td>\n",
       "    </tr>\n",
       "  </tbody>\n",
       "</table>\n",
       "<p>105651 rows × 6 columns</p>\n",
       "</div>"
      ],
      "text/plain": [
       "        user_id  week  num_events  num_questions  percentage_correct  \\\n",
       "0        387604     0         179            1.0               0.000   \n",
       "1        387604     1         155            0.0                 NaN   \n",
       "2        387604     2         159            0.0                 NaN   \n",
       "3        387604     3          29            4.0               0.125   \n",
       "4        387604     4          23            2.0               0.750   \n",
       "...         ...   ...         ...            ...                 ...   \n",
       "105646   404604     8           0            0.0                 NaN   \n",
       "105647   404604     9           0            0.0                 NaN   \n",
       "105648   404604    10           0            0.0                 NaN   \n",
       "105649   404604    11           0            0.0                 NaN   \n",
       "105650   404604    12           0            0.0                 NaN   \n",
       "\n",
       "        num_readings  \n",
       "0               59.0  \n",
       "1               59.0  \n",
       "2               33.0  \n",
       "3                0.0  \n",
       "4                0.0  \n",
       "...              ...  \n",
       "105646           0.0  \n",
       "105647           0.0  \n",
       "105648           0.0  \n",
       "105649           0.0  \n",
       "105650           0.0  \n",
       "\n",
       "[105651 rows x 6 columns]"
      ]
     },
     "execution_count": 58,
     "metadata": {},
     "output_type": "execute_result"
    }
   ],
   "source": [
    "res_week_3 = pd.merge(res_week_2, df_readings_count_week, on=['user_id', 'week'], how='left').fillna(\n",
    "    value={'num_readings':0})\n",
    "res_week_3"
   ]
  },
  {
   "cell_type": "markdown",
   "id": "1d045819-a60e-4bdf-bdab-f09fa53c823a",
   "metadata": {
    "id": "1d045819-a60e-4bdf-bdab-f09fa53c823a"
   },
   "source": [
    "#### b) Select two features and analyze their behavior over time. Please provide a hypothesis and visualization for both features. For ideas on how to perform a time series exploration, please check the lecture slides and notebook. Discuss your results: what do you observe? Do the results confirm your hypotheses?"
   ]
  },
  {
   "cell_type": "markdown",
   "id": "54fb1806-67e8-488f-8573-3e0eb507757c",
   "metadata": {},
   "source": [
    "### H1: The student performance is constant throughout the weeks"
   ]
  },
  {
   "cell_type": "code",
   "execution_count": 59,
   "id": "734c7ea9-865b-4a60-a938-8106148eda1e",
   "metadata": {},
   "outputs": [
    {
     "data": {
      "image/png": "[encoded data removed]",
      "text/plain": [
       "<Figure size 432x288 with 1 Axes>"
      ]
     },
     "metadata": {
      "needs_background": "light"
     },
     "output_type": "display_data"
    }
   ],
   "source": [
    "ax = sns.lineplot(data=res_week_3, x=\"week\", y=\"percentage_correct\", ci='sd')\n",
    "plt.show()"
   ]
  },
  {
   "cell_type": "markdown",
   "id": "ff74ecf1-82ef-4256-9e1c-ce07b197b0d6",
   "metadata": {},
   "source": [
    "The average of correct answers is indeed the same throughout the weeks. Students may perform better or worse for some weeks, but overall it remains around the global average we computed earlier."
   ]
  },
  {
   "cell_type": "markdown",
   "id": "7f578614-6a55-4251-8ed9-f95aa445b485",
   "metadata": {},
   "source": [
    "### H2: Users become less active over time"
   ]
  },
  {
   "cell_type": "code",
   "execution_count": 60,
   "id": "cac78473-4bfd-4323-97a2-ef7e73cca179",
   "metadata": {},
   "outputs": [
    {
     "data": {
      "image/png": "[encoded data removed]",
      "text/plain": [
       "<Figure size 432x288 with 1 Axes>"
      ]
     },
     "metadata": {
      "needs_background": "light"
     },
     "output_type": "display_data"
    }
   ],
   "source": [
    "ax = sns.lineplot(data=res_week_3, x=\"week\", y=\"num_events\", ci='sd')\n",
    "plt.show()"
   ]
  },
  {
   "cell_type": "markdown",
   "id": "c1305e6c-2957-492e-8429-60c0d5c15db5",
   "metadata": {},
   "source": [
    "We can see that after the first week, the user activity is drops considerably. Maybe after using the website for one week, they are not motivated to keep working, or simply don't need to, they review a few topics they need practice in, and then move on. "
   ]
  },
  {
   "cell_type": "markdown",
   "id": "_s7rWpaLfZGt",
   "metadata": {
    "id": "_s7rWpaLfZGt"
   },
   "source": [
    "# Task 4: Creative extension \n",
    "\n",
    "Please provide **one** new hypothesis you would like to explore with the data and provide a visualization for it. Discuss your results: what do you observe? Do the results confirm your hypotheses?\n",
    "\n"
   ]
  },
  {
   "cell_type": "markdown",
   "id": "79a12618-784b-477a-814b-9e89ec8cf656",
   "metadata": {},
   "source": [
    "### H: There is no difference between males and females in terms of the time taken to answer questions "
   ]
  },
  {
   "cell_type": "code",
   "execution_count": 61,
   "id": "3-Wtdj4KfdY_",
   "metadata": {
    "id": "3-Wtdj4KfdY_"
   },
   "outputs": [
    {
     "data": {
      "text/html": [
       "<div>\n",
       "<style scoped>\n",
       "    .dataframe tbody tr th:only-of-type {\n",
       "        vertical-align: middle;\n",
       "    }\n",
       "\n",
       "    .dataframe tbody tr th {\n",
       "        vertical-align: top;\n",
       "    }\n",
       "\n",
       "    .dataframe thead th {\n",
       "        text-align: right;\n",
       "    }\n",
       "</style>\n",
       "<table border=\"1\" class=\"dataframe\">\n",
       "  <thead>\n",
       "    <tr style=\"text-align: right;\">\n",
       "      <th></th>\n",
       "      <th>transaction_id</th>\n",
       "      <th>transaction_token</th>\n",
       "      <th>user_id</th>\n",
       "      <th>document_id</th>\n",
       "      <th>document_version</th>\n",
       "      <th>evaluation</th>\n",
       "      <th>input</th>\n",
       "      <th>start_time</th>\n",
       "      <th>commit_time</th>\n",
       "      <th>user_agent</th>\n",
       "      <th>validation</th>\n",
       "      <th>solution</th>\n",
       "      <th>type</th>\n",
       "      <th>duration</th>\n",
       "    </tr>\n",
       "  </thead>\n",
       "  <tbody>\n",
       "    <tr>\n",
       "      <th>2</th>\n",
       "      <td>1011975</td>\n",
       "      <td>6f292166-86bd-4ec9-81e8-22e9033d571e</td>\n",
       "      <td>387604.0</td>\n",
       "      <td>111K3PY6sbr8ac1mRGpse1</td>\n",
       "      <td>87668</td>\n",
       "      <td>CORRECT</td>\n",
       "      <td>{\"type\": \"MULTIPLE_CHOICE\", \"selections\": {\"0\"...</td>\n",
       "      <td>1636444658255</td>\n",
       "      <td>1.636445e+12</td>\n",
       "      <td>NaN</td>\n",
       "      <td>PASS</td>\n",
       "      <td>{\"type\": \"MULTIPLE_CHOICE\", \"choices\": [{\"cont...</td>\n",
       "      <td>MULTIPLE_CHOICE</td>\n",
       "      <td>0.083333</td>\n",
       "    </tr>\n",
       "    <tr>\n",
       "      <th>3</th>\n",
       "      <td>1020790</td>\n",
       "      <td>79a7d731-a36b-4529-a11b-108b9f877a04</td>\n",
       "      <td>387604.0</td>\n",
       "      <td>111K3PY6sbr8ac1mRGpse1</td>\n",
       "      <td>87668</td>\n",
       "      <td>CORRECT</td>\n",
       "      <td>{\"type\": \"MULTIPLE_CHOICE\", \"selections\": {\"0\"...</td>\n",
       "      <td>1636561847705</td>\n",
       "      <td>1.636562e+12</td>\n",
       "      <td>NaN</td>\n",
       "      <td>PASS</td>\n",
       "      <td>{\"type\": \"MULTIPLE_CHOICE\", \"choices\": [{\"cont...</td>\n",
       "      <td>MULTIPLE_CHOICE</td>\n",
       "      <td>0.166667</td>\n",
       "    </tr>\n",
       "    <tr>\n",
       "      <th>4</th>\n",
       "      <td>1061970</td>\n",
       "      <td>a45b6464-371e-47f4-842c-34f9e345b4ec</td>\n",
       "      <td>387604.0</td>\n",
       "      <td>111K3PY6sbr8ac1mRGpse1</td>\n",
       "      <td>87668</td>\n",
       "      <td>CORRECT</td>\n",
       "      <td>{\"type\": \"MULTIPLE_CHOICE\", \"selections\": {\"0\"...</td>\n",
       "      <td>1637146373965</td>\n",
       "      <td>1.637146e+12</td>\n",
       "      <td>NaN</td>\n",
       "      <td>PASS</td>\n",
       "      <td>{\"type\": \"MULTIPLE_CHOICE\", \"choices\": [{\"cont...</td>\n",
       "      <td>MULTIPLE_CHOICE</td>\n",
       "      <td>0.133333</td>\n",
       "    </tr>\n",
       "    <tr>\n",
       "      <th>5</th>\n",
       "      <td>1066627</td>\n",
       "      <td>813bd412-3041-48bd-98dc-6b56ac36f288</td>\n",
       "      <td>387604.0</td>\n",
       "      <td>111K3PY6sbr8ac1mRGpse1</td>\n",
       "      <td>87668</td>\n",
       "      <td>CORRECT</td>\n",
       "      <td>{\"type\": \"MULTIPLE_CHOICE\", \"selections\": {\"0\"...</td>\n",
       "      <td>1637233686711</td>\n",
       "      <td>1.637234e+12</td>\n",
       "      <td>NaN</td>\n",
       "      <td>PASS</td>\n",
       "      <td>{\"type\": \"MULTIPLE_CHOICE\", \"choices\": [{\"cont...</td>\n",
       "      <td>MULTIPLE_CHOICE</td>\n",
       "      <td>0.066667</td>\n",
       "    </tr>\n",
       "    <tr>\n",
       "      <th>6</th>\n",
       "      <td>1219429</td>\n",
       "      <td>426596f6-a5e3-4efb-9c96-d08e7ab7cd8a</td>\n",
       "      <td>387604.0</td>\n",
       "      <td>111K3PY6sbr8ac1mRGpse1</td>\n",
       "      <td>87668</td>\n",
       "      <td>CORRECT</td>\n",
       "      <td>{\"type\": \"MULTIPLE_CHOICE\", \"selections\": {\"0\"...</td>\n",
       "      <td>1639410693460</td>\n",
       "      <td>1.639411e+12</td>\n",
       "      <td>NaN</td>\n",
       "      <td>PASS</td>\n",
       "      <td>{\"type\": \"MULTIPLE_CHOICE\", \"choices\": [{\"cont...</td>\n",
       "      <td>MULTIPLE_CHOICE</td>\n",
       "      <td>0.200000</td>\n",
       "    </tr>\n",
       "    <tr>\n",
       "      <th>...</th>\n",
       "      <td>...</td>\n",
       "      <td>...</td>\n",
       "      <td>...</td>\n",
       "      <td>...</td>\n",
       "      <td>...</td>\n",
       "      <td>...</td>\n",
       "      <td>...</td>\n",
       "      <td>...</td>\n",
       "      <td>...</td>\n",
       "      <td>...</td>\n",
       "      <td>...</td>\n",
       "      <td>...</td>\n",
       "      <td>...</td>\n",
       "      <td>...</td>\n",
       "    </tr>\n",
       "    <tr>\n",
       "      <th>800002</th>\n",
       "      <td>1584091</td>\n",
       "      <td>c5659a66-9d7c-4c30-9de7-68d62d2c486b</td>\n",
       "      <td>404603.0</td>\n",
       "      <td>fBBfV7U4Z25vFGvcSh4DX</td>\n",
       "      <td>87419</td>\n",
       "      <td>PARTIAL</td>\n",
       "      <td>{\"type\": \"CLOZE_TEXT_DROPDOWN\", \"clozeInputs\":...</td>\n",
       "      <td>1645446877804</td>\n",
       "      <td>1.645447e+12</td>\n",
       "      <td>unknown</td>\n",
       "      <td>PASS</td>\n",
       "      <td>{\"gaps\": [\"falsch\", \"falsch\", \"falsch\", \"richt...</td>\n",
       "      <td>CLOZE_TEXT_DROPDOWN</td>\n",
       "      <td>0.550000</td>\n",
       "    </tr>\n",
       "    <tr>\n",
       "      <th>800007</th>\n",
       "      <td>1584555</td>\n",
       "      <td>2cc6a524-43fc-480d-96d6-04b0a64e28e4</td>\n",
       "      <td>404604.0</td>\n",
       "      <td>47H79mEiY8x9CeHqi0D3Vn</td>\n",
       "      <td>89817</td>\n",
       "      <td>WRONG</td>\n",
       "      <td>{\"type\": \"CLOZE_MATH\", \"clozeInputs\": [\"6\", \"4...</td>\n",
       "      <td>1645454988315</td>\n",
       "      <td>1.645455e+12</td>\n",
       "      <td>unknown</td>\n",
       "      <td>PASS</td>\n",
       "      <td>{\"type\": \"CLOZE_MATH\"}</td>\n",
       "      <td>CLOZE_MATH</td>\n",
       "      <td>1.483333</td>\n",
       "    </tr>\n",
       "    <tr>\n",
       "      <th>800012</th>\n",
       "      <td>1585020</td>\n",
       "      <td>5735066d-7090-47b2-af61-41431f3b6f30</td>\n",
       "      <td>404604.0</td>\n",
       "      <td>4vjXRQDSr0d7CB5CrF3gSb</td>\n",
       "      <td>34233</td>\n",
       "      <td>PARTIAL</td>\n",
       "      <td>{\"type\": \"MULTIPLE_CHOICE\", \"selections\": {\"0\"...</td>\n",
       "      <td>1645461220858</td>\n",
       "      <td>1.645461e+12</td>\n",
       "      <td>unknown</td>\n",
       "      <td>PASS</td>\n",
       "      <td>{\"type\": \"MULTIPLE_CHOICE\", \"choices\": [{\"cont...</td>\n",
       "      <td>MULTIPLE_CHOICE</td>\n",
       "      <td>1.150000</td>\n",
       "    </tr>\n",
       "    <tr>\n",
       "      <th>800016</th>\n",
       "      <td>1584578</td>\n",
       "      <td>7e328437-52df-4697-94e9-186844c3e269</td>\n",
       "      <td>404604.0</td>\n",
       "      <td>a1jzfZLIHDt7LzD8KKha54</td>\n",
       "      <td>39046</td>\n",
       "      <td>PARTIAL</td>\n",
       "      <td>{\"type\": \"MULTIPLE_CHOICE\", \"selections\": {\"3\"...</td>\n",
       "      <td>1645455097067</td>\n",
       "      <td>1.645455e+12</td>\n",
       "      <td>unknown</td>\n",
       "      <td>PASS</td>\n",
       "      <td>{\"type\": \"MULTIPLE_CHOICE\", \"choices\": [{\"cont...</td>\n",
       "      <td>MULTIPLE_CHOICE</td>\n",
       "      <td>0.650000</td>\n",
       "    </tr>\n",
       "    <tr>\n",
       "      <th>800017</th>\n",
       "      <td>1584584</td>\n",
       "      <td>48c02063-8c99-4e2c-b783-b626cf2fcfe9</td>\n",
       "      <td>404604.0</td>\n",
       "      <td>AUaU88i0ME6XdsMZWd5gp</td>\n",
       "      <td>39050</td>\n",
       "      <td>PARTIAL</td>\n",
       "      <td>{\"type\": \"MULTIPLE_CHOICE\", \"selections\": {\"0\"...</td>\n",
       "      <td>1645455137205</td>\n",
       "      <td>1.645461e+12</td>\n",
       "      <td>unknown</td>\n",
       "      <td>PASS</td>\n",
       "      <td>{\"type\": \"MULTIPLE_CHOICE\", \"choices\": [{\"cont...</td>\n",
       "      <td>MULTIPLE_CHOICE</td>\n",
       "      <td>100.983333</td>\n",
       "    </tr>\n",
       "  </tbody>\n",
       "</table>\n",
       "<p>503119 rows × 14 columns</p>\n",
       "</div>"
      ],
      "text/plain": [
       "        transaction_id                     transaction_token   user_id  \\\n",
       "2              1011975  6f292166-86bd-4ec9-81e8-22e9033d571e  387604.0   \n",
       "3              1020790  79a7d731-a36b-4529-a11b-108b9f877a04  387604.0   \n",
       "4              1061970  a45b6464-371e-47f4-842c-34f9e345b4ec  387604.0   \n",
       "5              1066627  813bd412-3041-48bd-98dc-6b56ac36f288  387604.0   \n",
       "6              1219429  426596f6-a5e3-4efb-9c96-d08e7ab7cd8a  387604.0   \n",
       "...                ...                                   ...       ...   \n",
       "800002         1584091  c5659a66-9d7c-4c30-9de7-68d62d2c486b  404603.0   \n",
       "800007         1584555  2cc6a524-43fc-480d-96d6-04b0a64e28e4  404604.0   \n",
       "800012         1585020  5735066d-7090-47b2-af61-41431f3b6f30  404604.0   \n",
       "800016         1584578  7e328437-52df-4697-94e9-186844c3e269  404604.0   \n",
       "800017         1584584  48c02063-8c99-4e2c-b783-b626cf2fcfe9  404604.0   \n",
       "\n",
       "                   document_id  document_version evaluation  \\\n",
       "2       111K3PY6sbr8ac1mRGpse1             87668    CORRECT   \n",
       "3       111K3PY6sbr8ac1mRGpse1             87668    CORRECT   \n",
       "4       111K3PY6sbr8ac1mRGpse1             87668    CORRECT   \n",
       "5       111K3PY6sbr8ac1mRGpse1             87668    CORRECT   \n",
       "6       111K3PY6sbr8ac1mRGpse1             87668    CORRECT   \n",
       "...                        ...               ...        ...   \n",
       "800002   fBBfV7U4Z25vFGvcSh4DX             87419    PARTIAL   \n",
       "800007  47H79mEiY8x9CeHqi0D3Vn             89817      WRONG   \n",
       "800012  4vjXRQDSr0d7CB5CrF3gSb             34233    PARTIAL   \n",
       "800016  a1jzfZLIHDt7LzD8KKha54             39046    PARTIAL   \n",
       "800017   AUaU88i0ME6XdsMZWd5gp             39050    PARTIAL   \n",
       "\n",
       "                                                    input     start_time  \\\n",
       "2       {\"type\": \"MULTIPLE_CHOICE\", \"selections\": {\"0\"...  1636444658255   \n",
       "3       {\"type\": \"MULTIPLE_CHOICE\", \"selections\": {\"0\"...  1636561847705   \n",
       "4       {\"type\": \"MULTIPLE_CHOICE\", \"selections\": {\"0\"...  1637146373965   \n",
       "5       {\"type\": \"MULTIPLE_CHOICE\", \"selections\": {\"0\"...  1637233686711   \n",
       "6       {\"type\": \"MULTIPLE_CHOICE\", \"selections\": {\"0\"...  1639410693460   \n",
       "...                                                   ...            ...   \n",
       "800002  {\"type\": \"CLOZE_TEXT_DROPDOWN\", \"clozeInputs\":...  1645446877804   \n",
       "800007  {\"type\": \"CLOZE_MATH\", \"clozeInputs\": [\"6\", \"4...  1645454988315   \n",
       "800012  {\"type\": \"MULTIPLE_CHOICE\", \"selections\": {\"0\"...  1645461220858   \n",
       "800016  {\"type\": \"MULTIPLE_CHOICE\", \"selections\": {\"3\"...  1645455097067   \n",
       "800017  {\"type\": \"MULTIPLE_CHOICE\", \"selections\": {\"0\"...  1645455137205   \n",
       "\n",
       "         commit_time user_agent validation  \\\n",
       "2       1.636445e+12        NaN       PASS   \n",
       "3       1.636562e+12        NaN       PASS   \n",
       "4       1.637146e+12        NaN       PASS   \n",
       "5       1.637234e+12        NaN       PASS   \n",
       "6       1.639411e+12        NaN       PASS   \n",
       "...              ...        ...        ...   \n",
       "800002  1.645447e+12    unknown       PASS   \n",
       "800007  1.645455e+12    unknown       PASS   \n",
       "800012  1.645461e+12    unknown       PASS   \n",
       "800016  1.645455e+12    unknown       PASS   \n",
       "800017  1.645461e+12    unknown       PASS   \n",
       "\n",
       "                                                 solution  \\\n",
       "2       {\"type\": \"MULTIPLE_CHOICE\", \"choices\": [{\"cont...   \n",
       "3       {\"type\": \"MULTIPLE_CHOICE\", \"choices\": [{\"cont...   \n",
       "4       {\"type\": \"MULTIPLE_CHOICE\", \"choices\": [{\"cont...   \n",
       "5       {\"type\": \"MULTIPLE_CHOICE\", \"choices\": [{\"cont...   \n",
       "6       {\"type\": \"MULTIPLE_CHOICE\", \"choices\": [{\"cont...   \n",
       "...                                                   ...   \n",
       "800002  {\"gaps\": [\"falsch\", \"falsch\", \"falsch\", \"richt...   \n",
       "800007                             {\"type\": \"CLOZE_MATH\"}   \n",
       "800012  {\"type\": \"MULTIPLE_CHOICE\", \"choices\": [{\"cont...   \n",
       "800016  {\"type\": \"MULTIPLE_CHOICE\", \"choices\": [{\"cont...   \n",
       "800017  {\"type\": \"MULTIPLE_CHOICE\", \"choices\": [{\"cont...   \n",
       "\n",
       "                       type    duration  \n",
       "2           MULTIPLE_CHOICE    0.083333  \n",
       "3           MULTIPLE_CHOICE    0.166667  \n",
       "4           MULTIPLE_CHOICE    0.133333  \n",
       "5           MULTIPLE_CHOICE    0.066667  \n",
       "6           MULTIPLE_CHOICE    0.200000  \n",
       "...                     ...         ...  \n",
       "800002  CLOZE_TEXT_DROPDOWN    0.550000  \n",
       "800007           CLOZE_MATH    1.483333  \n",
       "800012      MULTIPLE_CHOICE    1.150000  \n",
       "800016      MULTIPLE_CHOICE    0.650000  \n",
       "800017      MULTIPLE_CHOICE  100.983333  \n",
       "\n",
       "[503119 rows x 14 columns]"
      ]
     },
     "execution_count": 61,
     "metadata": {},
     "output_type": "execute_result"
    }
   ],
   "source": [
    "# Your creative visualization here\n",
    "# Times questions answered or mcq take less time for students to answer\n",
    "transactions_duration = transactions.loc[(transactions['evaluation'].notna()) & (transactions['commit_time'].notna())].copy()\n",
    "transactions_duration['duration'] = pd.to_timedelta(transactions_duration['commit_time'] - transactions_duration['start_time'], unit='ms').dt.seconds / 60 \n",
    "transactions_duration"
   ]
  },
  {
   "cell_type": "code",
   "execution_count": 62,
   "id": "a64148bc-7c3f-4c8f-8587-625c56fdc731",
   "metadata": {},
   "outputs": [
    {
     "data": {
      "text/html": [
       "<div>\n",
       "<style scoped>\n",
       "    .dataframe tbody tr th:only-of-type {\n",
       "        vertical-align: middle;\n",
       "    }\n",
       "\n",
       "    .dataframe tbody tr th {\n",
       "        vertical-align: top;\n",
       "    }\n",
       "\n",
       "    .dataframe thead th {\n",
       "        text-align: right;\n",
       "    }\n",
       "</style>\n",
       "<table border=\"1\" class=\"dataframe\">\n",
       "  <thead>\n",
       "    <tr style=\"text-align: right;\">\n",
       "      <th></th>\n",
       "      <th>duration</th>\n",
       "    </tr>\n",
       "    <tr>\n",
       "      <th>user_id</th>\n",
       "      <th></th>\n",
       "    </tr>\n",
       "  </thead>\n",
       "  <tbody>\n",
       "    <tr>\n",
       "      <th>387604.0</th>\n",
       "      <td>0.971993</td>\n",
       "    </tr>\n",
       "    <tr>\n",
       "      <th>387605.0</th>\n",
       "      <td>2.931111</td>\n",
       "    </tr>\n",
       "    <tr>\n",
       "      <th>387608.0</th>\n",
       "      <td>1.079912</td>\n",
       "    </tr>\n",
       "    <tr>\n",
       "      <th>387615.0</th>\n",
       "      <td>11.509309</td>\n",
       "    </tr>\n",
       "    <tr>\n",
       "      <th>387643.0</th>\n",
       "      <td>13.163636</td>\n",
       "    </tr>\n",
       "    <tr>\n",
       "      <th>...</th>\n",
       "      <td>...</td>\n",
       "    </tr>\n",
       "    <tr>\n",
       "      <th>404597.0</th>\n",
       "      <td>0.883333</td>\n",
       "    </tr>\n",
       "    <tr>\n",
       "      <th>404598.0</th>\n",
       "      <td>1.083333</td>\n",
       "    </tr>\n",
       "    <tr>\n",
       "      <th>404599.0</th>\n",
       "      <td>1.316667</td>\n",
       "    </tr>\n",
       "    <tr>\n",
       "      <th>404603.0</th>\n",
       "      <td>0.438462</td>\n",
       "    </tr>\n",
       "    <tr>\n",
       "      <th>404604.0</th>\n",
       "      <td>26.066667</td>\n",
       "    </tr>\n",
       "  </tbody>\n",
       "</table>\n",
       "<p>10217 rows × 1 columns</p>\n",
       "</div>"
      ],
      "text/plain": [
       "           duration\n",
       "user_id            \n",
       "387604.0   0.971993\n",
       "387605.0   2.931111\n",
       "387608.0   1.079912\n",
       "387615.0  11.509309\n",
       "387643.0  13.163636\n",
       "...             ...\n",
       "404597.0   0.883333\n",
       "404598.0   1.083333\n",
       "404599.0   1.316667\n",
       "404603.0   0.438462\n",
       "404604.0  26.066667\n",
       "\n",
       "[10217 rows x 1 columns]"
      ]
     },
     "execution_count": 62,
     "metadata": {},
     "output_type": "execute_result"
    }
   ],
   "source": [
    "users_duration = transactions_duration[['user_id', 'duration']].groupby(by='user_id').mean()\n",
    "users_duration"
   ]
  },
  {
   "cell_type": "code",
   "execution_count": 63,
   "id": "c99ea8d2-d4a4-452e-bfbb-8294efa80482",
   "metadata": {},
   "outputs": [
    {
     "data": {
      "text/html": [
       "<div>\n",
       "<style scoped>\n",
       "    .dataframe tbody tr th:only-of-type {\n",
       "        vertical-align: middle;\n",
       "    }\n",
       "\n",
       "    .dataframe tbody tr th {\n",
       "        vertical-align: top;\n",
       "    }\n",
       "\n",
       "    .dataframe thead th {\n",
       "        text-align: right;\n",
       "    }\n",
       "</style>\n",
       "<table border=\"1\" class=\"dataframe\">\n",
       "  <thead>\n",
       "    <tr style=\"text-align: right;\">\n",
       "      <th></th>\n",
       "      <th>duration</th>\n",
       "    </tr>\n",
       "    <tr>\n",
       "      <th>gender</th>\n",
       "      <th></th>\n",
       "    </tr>\n",
       "  </thead>\n",
       "  <tbody>\n",
       "    <tr>\n",
       "      <th>FEMALE</th>\n",
       "      <td>7.774849</td>\n",
       "    </tr>\n",
       "    <tr>\n",
       "      <th>MALE</th>\n",
       "      <td>9.395168</td>\n",
       "    </tr>\n",
       "    <tr>\n",
       "      <th>STAR</th>\n",
       "      <td>6.889259</td>\n",
       "    </tr>\n",
       "  </tbody>\n",
       "</table>\n",
       "</div>"
      ],
      "text/plain": [
       "        duration\n",
       "gender          \n",
       "FEMALE  7.774849\n",
       "MALE    9.395168\n",
       "STAR    6.889259"
      ]
     },
     "execution_count": 63,
     "metadata": {},
     "output_type": "execute_result"
    }
   ],
   "source": [
    "df_user_duration = pd.merge(users, users_duration, on='user_id', how='inner')\n",
    "df_user_duration[['gender', 'duration']].groupby(by='gender').mean()"
   ]
  },
  {
   "cell_type": "code",
   "execution_count": 64,
   "id": "144c37fb-b5e6-4e37-b848-ac1db2d6c134",
   "metadata": {},
   "outputs": [
    {
     "data": {
      "text/plain": [
       "FEMALE    3358\n",
       "MALE      2177\n",
       "STAR       303\n",
       "Name: gender, dtype: int64"
      ]
     },
     "execution_count": 64,
     "metadata": {},
     "output_type": "execute_result"
    }
   ],
   "source": [
    "df_user_duration.loc[df_user_duration['duration']<=10].gender.value_counts()"
   ]
  },
  {
   "cell_type": "code",
   "execution_count": 65,
   "id": "6087834a-469b-4500-94a9-91e433f78eee",
   "metadata": {},
   "outputs": [
    {
     "data": {
      "text/plain": [
       "FEMALE    560\n",
       "MALE      440\n",
       "STAR       52\n",
       "Name: gender, dtype: int64"
      ]
     },
     "execution_count": 65,
     "metadata": {},
     "output_type": "execute_result"
    }
   ],
   "source": [
    "df_user_duration.loc[df_user_duration['duration']>10].gender.value_counts()"
   ]
  },
  {
   "cell_type": "code",
   "execution_count": 66,
   "id": "293d48e1-a2b2-41eb-a29c-d410c3fe67f3",
   "metadata": {},
   "outputs": [
    {
     "data": {
      "text/plain": [
       "<seaborn.axisgrid.FacetGrid at 0x7fa02138db50>"
      ]
     },
     "execution_count": 66,
     "metadata": {},
     "output_type": "execute_result"
    },
    {
     "data": {
      "image/png": "[encoded data removed]",
      "text/plain": [
       "<Figure size 360x360 with 1 Axes>"
      ]
     },
     "metadata": {
      "needs_background": "light"
     },
     "output_type": "display_data"
    }
   ],
   "source": [
    "g = sns.catplot(data=df_user_duration, x='gender', y= 'duration')\n",
    "g.set_axis_labels(\"Gender\", \"Time taken to answer (min)\")"
   ]
  },
  {
   "cell_type": "code",
   "execution_count": 67,
   "id": "79fa617b-fb19-4e41-97a2-5c4ba3e3e5f1",
   "metadata": {},
   "outputs": [
    {
     "data": {
      "text/plain": [
       "<seaborn.axisgrid.FacetGrid at 0x7fa021255520>"
      ]
     },
     "execution_count": 67,
     "metadata": {},
     "output_type": "execute_result"
    },
    {
     "data": {
      "image/png": "[encoded data removed]",
      "text/plain": [
       "<Figure size 360x360 with 1 Axes>"
      ]
     },
     "metadata": {
      "needs_background": "light"
     },
     "output_type": "display_data"
    }
   ],
   "source": [
    "# Closer view of the distribution\n",
    "g = sns.catplot(data=df_user_duration.loc[df_user_duration['duration']<=60], x='gender', y= 'duration')\n",
    "g.set_axis_labels(\"Canton\", \"Time taken to answer (min)\")"
   ]
  },
  {
   "cell_type": "code",
   "execution_count": 68,
   "id": "20c6d9fc-b9e8-4a78-8783-45012274c7ea",
   "metadata": {},
   "outputs": [
    {
     "data": {
      "text/plain": [
       "<seaborn.axisgrid.FacetGrid at 0x7fa0215579a0>"
      ]
     },
     "execution_count": 68,
     "metadata": {},
     "output_type": "execute_result"
    },
    {
     "data": {
      "image/png": "[encoded data removed]",
      "text/plain": [
       "<Figure size 360x360 with 1 Axes>"
      ]
     },
     "metadata": {
      "needs_background": "light"
     },
     "output_type": "display_data"
    }
   ],
   "source": [
    "g = sns.catplot(data=df_user_duration.loc[df_user_duration['duration']<=120], x='gender', y= 'duration')\n",
    "g.set_axis_labels(\"Canton\", \"Time taken to answer (min)\")"
   ]
  },
  {
   "cell_type": "markdown",
   "id": "yTT8SklBgGxN",
   "metadata": {
    "id": "yTT8SklBgGxN"
   },
   "source": [
    "We can see that the hypothesis is actually not true, the average time is lower for female students than male students. This is because the female population is bigger, so there are a lot more short transactions for female students than for male students, while the number of transactions longer than ten minutes is the same for both genders. There are surprisingly outliers with 10 or more hours taken to answer a question, maybe they forgot to submit it, or the question was very hard.\n",
    "\n",
    "The average time for gender neutral students is even lower because the majority of the students take less than one hour to answer, and the distribution does not have outliers as far as female or male."
   ]
  },
  {
   "cell_type": "code",
   "execution_count": null,
   "id": "e9c55676-8736-411b-9fcb-6d378c39e8e0",
   "metadata": {},
   "outputs": [],
   "source": []
  }
 ],
 "metadata": {
  "colab": {
   "collapsed_sections": [],
   "name": "m2-lernnavi-sciper.ipynb",
   "provenance": []
  },
  "kernelspec": {
   "display_name": "Python 3 (ipykernel)",
   "language": "python",
   "name": "python3"
  },
  "language_info": {
   "codemirror_mode": {
    "name": "ipython",
    "version": 3
   },
   "file_extension": ".py",
   "mimetype": "text/x-python",
   "name": "python",
   "nbconvert_exporter": "python",
   "pygments_lexer": "ipython3",
   "version": "3.8.10"
  }
 },
 "nbformat": 4,
 "nbformat_minor": 5
}
